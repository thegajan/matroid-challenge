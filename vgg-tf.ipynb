{
 "cells": [
  {
   "cell_type": "markdown",
   "metadata": {},
   "source": [
    "# Tensorflow Implementation of VGG Face Detector"
   ]
  },
  {
   "cell_type": "markdown",
   "metadata": {},
   "source": [
    "Objective: Convert the VGG face descriptor model http://www.robots.ox.ac.uk/~vgg/software/vgg_face/ to Tensorflow format.\n",
    "<br>\n",
    "Output: Final Tensorflow classifier model trained on the gender dataset"
   ]
  },
  {
   "cell_type": "code",
   "execution_count": 1,
   "metadata": {},
   "outputs": [
    {
     "name": "stderr",
     "output_type": "stream",
     "text": [
      "Using TensorFlow backend.\n"
     ]
    }
   ],
   "source": [
    "import scipy.io as sio\n",
    "import tensorflow as tf\n",
    "from keras import backend as K\n",
    "from tensorflow.keras.models import Sequential, Model\n",
    "from tensorflow.keras.layers import Reshape, ZeroPadding2D, Convolution2D, MaxPooling2D, Dense, Dropout, Softmax, Flatten, Activation, BatchNormalization"
   ]
  },
  {
   "cell_type": "markdown",
   "metadata": {},
   "source": [
    "## Read .mat file for Model Description"
   ]
  },
  {
   "cell_type": "code",
   "execution_count": 2,
   "metadata": {},
   "outputs": [
    {
     "name": "stdout",
     "output_type": "stream",
     "text": [
      "['conv1_1']\n",
      "['relu1_1']\n",
      "['conv1_2']\n",
      "['relu1_2']\n",
      "['pool1']\n",
      "['conv2_1']\n",
      "['relu2_1']\n",
      "['conv2_2']\n",
      "['relu2_2']\n",
      "['pool2']\n",
      "['conv3_1']\n",
      "['relu3_1']\n",
      "['conv3_2']\n",
      "['relu3_2']\n",
      "['conv3_3']\n",
      "['relu3_3']\n",
      "['pool3']\n",
      "['conv4_1']\n",
      "['relu4_1']\n",
      "['conv4_2']\n",
      "['relu4_2']\n",
      "['conv4_3']\n",
      "['relu4_3']\n",
      "['pool4']\n",
      "['conv5_1']\n",
      "['relu5_1']\n",
      "['conv5_2']\n",
      "['relu5_2']\n",
      "['conv5_3']\n",
      "['relu5_3']\n",
      "['pool5']\n",
      "['fc6']\n",
      "['relu6']\n",
      "['dropout6']\n",
      "['fc7']\n",
      "['relu7']\n",
      "['dropout7']\n",
      "['fc8']\n",
      "['softmax']\n"
     ]
    }
   ],
   "source": [
    "def load_mat():\n",
    "    mat = sio.loadmat('data/vgg_face.mat', struct_as_record=False)\n",
    "    return mat\n",
    "\n",
    "mat = load_mat()\n",
    "net = mat['net'][0][0]\n",
    "mat_model = net.layers\n",
    "mat_model_layers = mat_model[0]\n",
    "num_mat_layers = mat_model_layers.shape[0]\n",
    "for layer in mat_model_layers:\n",
    "    print(layer[0][0].name)"
   ]
  },
  {
   "cell_type": "markdown",
   "metadata": {},
   "source": [
    "## VGG Architecture Implementation\n",
    "We can read the model described in the .mat file and build our tensorflow/keras model using clues. This way we can avoid reproducing it by hand. Additionally, this saves us the trouble of later applying the model weights from the .mat file to our tensorflow/keras model."
   ]
  },
  {
   "cell_type": "code",
   "execution_count": 3,
   "metadata": {},
   "outputs": [],
   "source": [
    "def vgg_tf():\n",
    "    model = Sequential()\n",
    "\n",
    "    for i in range(num_mat_layers):\n",
    "        mat_model_layer = mat_model_layers[i][0][0].name[0]\n",
    "        if mat_model_layer.find(\"conv\") == 0 or mat_model_layer.find(\"fc\") == 0:\n",
    "            weights = mat_model_layers[i][0,0].weights\n",
    "            weights_shape = weights[0][0].shape\n",
    "            filter_x = weights_shape[0]; filter_y = weights_shape[1]\n",
    "            number_of_filters = weights_shape[3]\n",
    "\n",
    "            if mat_model_layer.find(\"conv\") == 0:\n",
    "                print(\"ZeroPadding2D((1,1))\")\n",
    "                if i == 0:\n",
    "                    model.add(ZeroPadding2D((1,1),input_shape=(224,224, 3)))\n",
    "                else:\n",
    "                    model.add(ZeroPadding2D((1,1)))\n",
    "\n",
    "            print(\"Convolution2D(\",number_of_filters,\", (\",filter_x,\", \",filter_y,\"), name='\",mat_model_layer,\"')\")\n",
    "            model.add(Convolution2D(number_of_filters, (filter_x, filter_y), name= mat_model_layer))\n",
    "\n",
    "        else:\n",
    "            if mat_model_layer.find(\"relu\") == 0:\n",
    "                print(\"Activation('relu', name=\",mat_model_layer)\n",
    "                model.add(Activation('relu', name=mat_model_layer))\n",
    "            elif mat_model_layer.find(\"dropout\") == 0:\n",
    "                print(\"Dropout(0.5, name=\",mat_model_layer,\")\")\n",
    "                model.add(Dropout(0.5, name=mat_model_layer))\n",
    "            elif mat_model_layer.find(\"pool\") == 0:\n",
    "                print(\"MaxPooling2D((2,2), strides=(2,2), name=\",mat_model_layer,\")\")\n",
    "                model.add(MaxPooling2D((2,2), strides=(2,2), name=mat_model_layer))\n",
    "            elif mat_model_layer.find(\"softmax\") == 0:\n",
    "                print(\"Activation('softmax', name=\",mat_model_layer,\")\")\n",
    "                model.add(Activation('softmax', name=mat_model_layer))\n",
    "            else:\n",
    "                print(\"-->\",mat_model_layer)\n",
    "    return model"
   ]
  },
  {
   "cell_type": "markdown",
   "metadata": {},
   "source": [
    "Save model to .h5 file for use later."
   ]
  },
  {
   "cell_type": "code",
   "execution_count": 4,
   "metadata": {},
   "outputs": [
    {
     "name": "stdout",
     "output_type": "stream",
     "text": [
      "ZeroPadding2D((1,1))\n",
      "Convolution2D( 64 , ( 3 ,  3 ), name=' conv1_1 ')\n",
      "Activation('relu', name= relu1_1\n",
      "ZeroPadding2D((1,1))\n",
      "Convolution2D( 64 , ( 3 ,  3 ), name=' conv1_2 ')\n",
      "Activation('relu', name= relu1_2\n",
      "MaxPooling2D((2,2), strides=(2,2), name= pool1 )\n",
      "ZeroPadding2D((1,1))\n",
      "Convolution2D( 128 , ( 3 ,  3 ), name=' conv2_1 ')\n",
      "Activation('relu', name= relu2_1\n",
      "ZeroPadding2D((1,1))\n",
      "Convolution2D( 128 , ( 3 ,  3 ), name=' conv2_2 ')\n",
      "Activation('relu', name= relu2_2\n",
      "MaxPooling2D((2,2), strides=(2,2), name= pool2 )\n",
      "ZeroPadding2D((1,1))\n",
      "Convolution2D( 256 , ( 3 ,  3 ), name=' conv3_1 ')\n",
      "Activation('relu', name= relu3_1\n",
      "ZeroPadding2D((1,1))\n",
      "Convolution2D( 256 , ( 3 ,  3 ), name=' conv3_2 ')\n",
      "Activation('relu', name= relu3_2\n",
      "ZeroPadding2D((1,1))\n",
      "Convolution2D( 256 , ( 3 ,  3 ), name=' conv3_3 ')\n",
      "Activation('relu', name= relu3_3\n",
      "MaxPooling2D((2,2), strides=(2,2), name= pool3 )\n",
      "ZeroPadding2D((1,1))\n",
      "Convolution2D( 512 , ( 3 ,  3 ), name=' conv4_1 ')\n",
      "Activation('relu', name= relu4_1\n",
      "ZeroPadding2D((1,1))\n",
      "Convolution2D( 512 , ( 3 ,  3 ), name=' conv4_2 ')\n",
      "Activation('relu', name= relu4_2\n",
      "ZeroPadding2D((1,1))\n",
      "Convolution2D( 512 , ( 3 ,  3 ), name=' conv4_3 ')\n",
      "Activation('relu', name= relu4_3\n",
      "MaxPooling2D((2,2), strides=(2,2), name= pool4 )\n",
      "ZeroPadding2D((1,1))\n",
      "Convolution2D( 512 , ( 3 ,  3 ), name=' conv5_1 ')\n",
      "Activation('relu', name= relu5_1\n",
      "ZeroPadding2D((1,1))\n",
      "Convolution2D( 512 , ( 3 ,  3 ), name=' conv5_2 ')\n",
      "Activation('relu', name= relu5_2\n",
      "ZeroPadding2D((1,1))\n",
      "Convolution2D( 512 , ( 3 ,  3 ), name=' conv5_3 ')\n",
      "Activation('relu', name= relu5_3\n",
      "MaxPooling2D((2,2), strides=(2,2), name= pool5 )\n",
      "Convolution2D( 4096 , ( 7 ,  7 ), name=' fc6 ')\n",
      "Activation('relu', name= relu6\n",
      "Dropout(0.5, name= dropout6 )\n",
      "Convolution2D( 4096 , ( 1 ,  1 ), name=' fc7 ')\n",
      "Activation('relu', name= relu7\n",
      "Dropout(0.5, name= dropout7 )\n",
      "Convolution2D( 2622 , ( 1 ,  1 ), name=' fc8 ')\n",
      "Activation('softmax', name= softmax )\n"
     ]
    }
   ],
   "source": [
    "model_ = vgg_tf()\n",
    "model_.save('data/vgg_face.h5')\n",
    "model = Model(inputs=model_.layers[0].input,outputs=model_.layers[-2].output)"
   ]
  },
  {
   "cell_type": "markdown",
   "metadata": {},
   "source": [
    "## Load Dataset"
   ]
  },
  {
   "cell_type": "code",
   "execution_count": 5,
   "metadata": {},
   "outputs": [],
   "source": [
    "from tensorflow.keras.preprocessing.image import load_img, img_to_array\n",
    "from tensorflow.keras.applications.imagenet_utils import preprocess_input\n",
    "from PIL import Image\n",
    "import numpy as np\n",
    "from tqdm import tqdm\n",
    "import os"
   ]
  },
  {
   "cell_type": "code",
   "execution_count": 6,
   "metadata": {},
   "outputs": [],
   "source": [
    "def pad(img):\n",
    "    ht, wd, cc= img.shape\n",
    "    ww = 224\n",
    "    hh = 224\n",
    "    color = (0,0,0)\n",
    "    result = np.full((hh,ww,cc), color, dtype=np.uint8)\n",
    "    xx = (ww - wd) // 2\n",
    "    yy = (hh - ht) // 2\n",
    "    result[yy:yy+ht, xx:xx+wd] = img\n",
    "    return result\n",
    "\n",
    "def load_img_file(path, model):\n",
    "    img = Image.open(path)\n",
    "#     img = load_img(path)\n",
    "    x = img_to_array(img) \n",
    "    x = pad(x)\n",
    "    x = np.expand_dims(x, axis=0)\n",
    "    x = preprocess_input(x)\n",
    "    x = model(x)\n",
    "    return x\n",
    "\n",
    "def load_data(path, model):\n",
    "    x = []\n",
    "    y = []\n",
    "    labels = {}\n",
    "    folders = os.listdir(path)\n",
    "    for i in tqdm(range(len(folders))):\n",
    "        labels[i] = folders[i]\n",
    "        label_path = path + '/' + folders[i]\n",
    "        images = os.listdir(label_path)\n",
    "        for image in images:\n",
    "            img = load_img_file(label_path + '/' + image, model)\n",
    "            x.append(np.squeeze(K.eval(img)).tolist())\n",
    "            y.append(i)\n",
    "    return np.array(x), np.array(y), labels"
   ]
  },
  {
   "cell_type": "code",
   "execution_count": 7,
   "metadata": {},
   "outputs": [
    {
     "name": "stderr",
     "output_type": "stream",
     "text": [
      "100%|████████████████████████████████████████████████████████████████████████████████| 140/140 [05:59<00:00,  2.57s/it]\n"
     ]
    }
   ],
   "source": [
    "X_train = y_train = labels = None\n",
    "try:\n",
    "    X_train = np.load('data/combined/X_train.npy', allow_pickle=True)\n",
    "    y_train = np.load('data/combined/y_train.npy', allow_pickle=True)\n",
    "    labels = np.load('data/combined/labels.npy', allow_pickle=True)[()]\n",
    "except:\n",
    "    X_train, y_train, labels = load_data('data/combined/aligned', model)\n",
    "    np.save('data/combined/X_train', X_train)\n",
    "    np.save('data/combined/y_train', y_train)\n",
    "    np.save('data/combined/labels', labels)"
   ]
  },
  {
   "cell_type": "code",
   "execution_count": 8,
   "metadata": {},
   "outputs": [
    {
     "name": "stderr",
     "output_type": "stream",
     "text": [
      "100%|████████████████████████████████████████████████████████████████████████████████| 140/140 [00:47<00:00,  2.97it/s]\n"
     ]
    }
   ],
   "source": [
    "X_test = y_test = None\n",
    "try:\n",
    "    X_test = np.load('data/combined/X_test.npy', allow_pickle=True)\n",
    "    y_test = np.load('data/combined/y_test.npy', allow_pickle=True)\n",
    "    labels = np.load('data/combined/labels.npy', allow_pickle=True)[()]\n",
    "except:\n",
    "    X_test, y_test, labels = load_data('data/combined/valid', model)\n",
    "    np.save('data/combined/X_test', X_test)\n",
    "    np.save('data/combined/y_test', y_test)"
   ]
  },
  {
   "cell_type": "code",
   "execution_count": 9,
   "metadata": {},
   "outputs": [
    {
     "name": "stdout",
     "output_type": "stream",
     "text": [
      "140\n"
     ]
    }
   ],
   "source": [
    "print(len(labels.keys()))"
   ]
  },
  {
   "cell_type": "markdown",
   "metadata": {},
   "source": [
    "## Construct Classifier "
   ]
  },
  {
   "cell_type": "code",
   "execution_count": 10,
   "metadata": {},
   "outputs": [],
   "source": [
    "def classier_model(input_dim, num_classes):\n",
    "    classifier = Sequential()\n",
    "    classifier.add(Dense(num_classes))\n",
    "    classifier.add(Activation('softmax'))\n",
    "    classifier.compile(loss=tf.keras.losses.SparseCategoricalCrossentropy(), optimizer='nadam', metrics=['accuracy'])\n",
    "    return classifier"
   ]
  },
  {
   "cell_type": "markdown",
   "metadata": {},
   "source": [
    "## Train Classifier"
   ]
  },
  {
   "cell_type": "code",
   "execution_count": 11,
   "metadata": {},
   "outputs": [],
   "source": [
    "from matplotlib import pyplot as plt\n",
    "\n",
    "def plotter(history):\n",
    "    plt.plot(history.history['accuracy'])\n",
    "    plt.plot(history.history['val_accuracy'])\n",
    "    plt.title('model accuracy')\n",
    "    plt.ylabel('accuracy')\n",
    "    plt.xlabel('epoch')\n",
    "    plt.legend(['train', 'val'], loc='upper left')\n",
    "    plt.show()"
   ]
  },
  {
   "cell_type": "markdown",
   "metadata": {},
   "source": [
    "### Gender Classification\n",
    "Train classifier for gender classification (of all ages together)."
   ]
  },
  {
   "cell_type": "code",
   "execution_count": 12,
   "metadata": {},
   "outputs": [
    {
     "name": "stdout",
     "output_type": "stream",
     "text": [
      "Epoch 1/90\n",
      "1840/1840 [==============================] - 3s 2ms/step - loss: 0.6523 - accuracy: 0.6181 - val_loss: 0.6194 - val_accuracy: 0.6764\n",
      "Epoch 2/90\n",
      "1840/1840 [==============================] - 3s 2ms/step - loss: 0.6073 - accuracy: 0.6780 - val_loss: 0.5868 - val_accuracy: 0.7044\n",
      "Epoch 3/90\n",
      "1840/1840 [==============================] - 3s 2ms/step - loss: 0.5833 - accuracy: 0.7011 - val_loss: 0.5808 - val_accuracy: 0.6919\n",
      "Epoch 4/90\n",
      "1840/1840 [==============================] - 3s 1ms/step - loss: 0.5684 - accuracy: 0.7116 - val_loss: 0.5596 - val_accuracy: 0.7215\n",
      "Epoch 5/90\n",
      "1840/1840 [==============================] - 3s 1ms/step - loss: 0.5567 - accuracy: 0.7212 - val_loss: 0.5592 - val_accuracy: 0.7104\n",
      "Epoch 6/90\n",
      "1840/1840 [==============================] - 3s 1ms/step - loss: 0.5475 - accuracy: 0.7254 - val_loss: 0.5513 - val_accuracy: 0.7134\n",
      "Epoch 7/90\n",
      "1840/1840 [==============================] - 3s 1ms/step - loss: 0.5403 - accuracy: 0.7338 - val_loss: 0.5336 - val_accuracy: 0.7384\n",
      "Epoch 8/90\n",
      "1840/1840 [==============================] - 3s 1ms/step - loss: 0.5340 - accuracy: 0.7378 - val_loss: 0.5295 - val_accuracy: 0.7416\n",
      "Epoch 9/90\n",
      "1840/1840 [==============================] - 3s 1ms/step - loss: 0.5289 - accuracy: 0.7435 - val_loss: 0.5236 - val_accuracy: 0.7419\n",
      "Epoch 10/90\n",
      "1840/1840 [==============================] - 3s 1ms/step - loss: 0.5247 - accuracy: 0.7426 - val_loss: 0.5227 - val_accuracy: 0.7465\n",
      "Epoch 11/90\n",
      "1840/1840 [==============================] - 3s 1ms/step - loss: 0.5198 - accuracy: 0.7448 - val_loss: 0.5176 - val_accuracy: 0.7493\n",
      "Epoch 12/90\n",
      "1840/1840 [==============================] - 3s 1ms/step - loss: 0.5164 - accuracy: 0.7516 - val_loss: 0.5168 - val_accuracy: 0.7522\n",
      "Epoch 13/90\n",
      "1840/1840 [==============================] - 3s 1ms/step - loss: 0.5140 - accuracy: 0.7515 - val_loss: 0.5134 - val_accuracy: 0.7577\n",
      "Epoch 14/90\n",
      "1840/1840 [==============================] - 3s 1ms/step - loss: 0.5104 - accuracy: 0.7547 - val_loss: 0.5127 - val_accuracy: 0.7571\n",
      "Epoch 15/90\n",
      "1840/1840 [==============================] - 3s 1ms/step - loss: 0.5069 - accuracy: 0.7573 - val_loss: 0.5073 - val_accuracy: 0.7617\n",
      "Epoch 16/90\n",
      "1840/1840 [==============================] - 3s 1ms/step - loss: 0.5046 - accuracy: 0.7602 - val_loss: 0.5192 - val_accuracy: 0.7449\n",
      "Epoch 17/90\n",
      "1840/1840 [==============================] - 3s 1ms/step - loss: 0.5016 - accuracy: 0.7601 - val_loss: 0.5021 - val_accuracy: 0.7634\n",
      "Epoch 18/90\n",
      "1840/1840 [==============================] - 3s 1ms/step - loss: 0.4993 - accuracy: 0.7623 - val_loss: 0.5073 - val_accuracy: 0.7577\n",
      "Epoch 19/90\n",
      "1840/1840 [==============================] - 3s 1ms/step - loss: 0.4980 - accuracy: 0.7640 - val_loss: 0.5001 - val_accuracy: 0.7642\n",
      "Epoch 20/90\n",
      "1840/1840 [==============================] - 3s 2ms/step - loss: 0.4961 - accuracy: 0.7624 - val_loss: 0.5096 - val_accuracy: 0.7525\n",
      "Epoch 21/90\n",
      "1840/1840 [==============================] - 3s 2ms/step - loss: 0.4934 - accuracy: 0.7670 - val_loss: 0.4941 - val_accuracy: 0.7661\n",
      "Epoch 22/90\n",
      "1840/1840 [==============================] - 3s 2ms/step - loss: 0.4916 - accuracy: 0.7681 - val_loss: 0.4942 - val_accuracy: 0.7685\n",
      "Epoch 23/90\n",
      "1840/1840 [==============================] - 3s 1ms/step - loss: 0.4904 - accuracy: 0.7690 - val_loss: 0.4924 - val_accuracy: 0.7694\n",
      "Epoch 24/90\n",
      "1840/1840 [==============================] - 3s 1ms/step - loss: 0.4881 - accuracy: 0.7687 - val_loss: 0.4939 - val_accuracy: 0.7680\n",
      "Epoch 25/90\n",
      "1840/1840 [==============================] - 3s 1ms/step - loss: 0.4861 - accuracy: 0.7695 - val_loss: 0.4960 - val_accuracy: 0.7563\n",
      "Epoch 26/90\n",
      "1840/1840 [==============================] - 2s 1ms/step - loss: 0.4846 - accuracy: 0.7710 - val_loss: 0.4876 - val_accuracy: 0.7734\n",
      "Epoch 27/90\n",
      "1840/1840 [==============================] - 3s 1ms/step - loss: 0.4838 - accuracy: 0.7725 - val_loss: 0.4974 - val_accuracy: 0.7563\n",
      "Epoch 28/90\n",
      "1840/1840 [==============================] - 3s 1ms/step - loss: 0.4821 - accuracy: 0.7741 - val_loss: 0.4971 - val_accuracy: 0.7550\n",
      "Epoch 29/90\n",
      "1840/1840 [==============================] - 3s 1ms/step - loss: 0.4811 - accuracy: 0.7730 - val_loss: 0.4841 - val_accuracy: 0.7713\n",
      "Epoch 30/90\n",
      "1840/1840 [==============================] - 3s 1ms/step - loss: 0.4786 - accuracy: 0.7752 - val_loss: 0.4836 - val_accuracy: 0.7702\n",
      "Epoch 31/90\n",
      "1840/1840 [==============================] - 3s 1ms/step - loss: 0.4783 - accuracy: 0.7759 - val_loss: 0.4832 - val_accuracy: 0.7699\n",
      "Epoch 32/90\n",
      "1840/1840 [==============================] - 3s 2ms/step - loss: 0.4772 - accuracy: 0.7766 - val_loss: 0.4818 - val_accuracy: 0.7726\n",
      "Epoch 33/90\n",
      "1840/1840 [==============================] - 3s 2ms/step - loss: 0.4757 - accuracy: 0.7763 - val_loss: 0.4878 - val_accuracy: 0.7617\n",
      "Epoch 34/90\n",
      "1840/1840 [==============================] - 3s 1ms/step - loss: 0.4751 - accuracy: 0.7790 - val_loss: 0.4824 - val_accuracy: 0.7713\n",
      "Epoch 35/90\n",
      "1840/1840 [==============================] - 3s 1ms/step - loss: 0.4736 - accuracy: 0.7771 - val_loss: 0.4797 - val_accuracy: 0.7767\n",
      "Epoch 36/90\n",
      "1840/1840 [==============================] - 3s 1ms/step - loss: 0.4722 - accuracy: 0.7787 - val_loss: 0.4862 - val_accuracy: 0.7637\n",
      "Epoch 37/90\n",
      "1840/1840 [==============================] - 3s 1ms/step - loss: 0.4723 - accuracy: 0.7777 - val_loss: 0.4777 - val_accuracy: 0.7761\n",
      "Epoch 38/90\n",
      "1840/1840 [==============================] - 3s 1ms/step - loss: 0.4704 - accuracy: 0.7805 - val_loss: 0.4888 - val_accuracy: 0.7607\n",
      "Epoch 39/90\n",
      "1840/1840 [==============================] - 3s 1ms/step - loss: 0.4697 - accuracy: 0.7801 - val_loss: 0.4763 - val_accuracy: 0.7789\n",
      "Epoch 40/90\n",
      "1840/1840 [==============================] - 3s 1ms/step - loss: 0.4691 - accuracy: 0.7805 - val_loss: 0.4781 - val_accuracy: 0.7748\n",
      "Epoch 41/90\n",
      "1840/1840 [==============================] - 3s 1ms/step - loss: 0.4676 - accuracy: 0.7815 - val_loss: 0.4753 - val_accuracy: 0.7791\n",
      "Epoch 42/90\n",
      "1840/1840 [==============================] - 3s 1ms/step - loss: 0.4676 - accuracy: 0.7819 - val_loss: 0.4752 - val_accuracy: 0.7770\n",
      "Epoch 43/90\n",
      "1840/1840 [==============================] - 3s 1ms/step - loss: 0.4666 - accuracy: 0.7839 - val_loss: 0.4750 - val_accuracy: 0.7753\n",
      "Epoch 44/90\n",
      "1840/1840 [==============================] - 3s 1ms/step - loss: 0.4661 - accuracy: 0.7806 - val_loss: 0.4766 - val_accuracy: 0.7759\n",
      "Epoch 45/90\n",
      "1840/1840 [==============================] - 3s 1ms/step - loss: 0.4646 - accuracy: 0.7853 - val_loss: 0.4898 - val_accuracy: 0.7623\n",
      "Epoch 46/90\n",
      "1840/1840 [==============================] - 3s 1ms/step - loss: 0.4639 - accuracy: 0.7836 - val_loss: 0.4742 - val_accuracy: 0.7751\n",
      "Epoch 47/90\n",
      "1840/1840 [==============================] - 3s 1ms/step - loss: 0.4638 - accuracy: 0.7859 - val_loss: 0.4766 - val_accuracy: 0.7745\n",
      "Epoch 48/90\n",
      "1840/1840 [==============================] - 3s 1ms/step - loss: 0.4623 - accuracy: 0.7863 - val_loss: 0.4771 - val_accuracy: 0.7696\n",
      "Epoch 49/90\n",
      "1840/1840 [==============================] - 3s 1ms/step - loss: 0.4617 - accuracy: 0.7857 - val_loss: 0.4783 - val_accuracy: 0.7685\n",
      "Epoch 50/90\n",
      "1840/1840 [==============================] - 3s 1ms/step - loss: 0.4613 - accuracy: 0.7861 - val_loss: 0.4921 - val_accuracy: 0.7533\n",
      "Epoch 51/90\n",
      "1840/1840 [==============================] - 3s 1ms/step - loss: 0.4609 - accuracy: 0.7867 - val_loss: 0.4713 - val_accuracy: 0.7789\n",
      "Epoch 52/90\n",
      "1840/1840 [==============================] - 3s 1ms/step - loss: 0.4598 - accuracy: 0.7865 - val_loss: 0.4708 - val_accuracy: 0.7778\n",
      "Epoch 53/90\n",
      "1840/1840 [==============================] - 3s 1ms/step - loss: 0.4586 - accuracy: 0.7894 - val_loss: 0.4835 - val_accuracy: 0.7691\n",
      "Epoch 54/90\n",
      "1840/1840 [==============================] - 3s 1ms/step - loss: 0.4587 - accuracy: 0.7880 - val_loss: 0.4692 - val_accuracy: 0.7824\n",
      "Epoch 55/90\n",
      "1840/1840 [==============================] - 3s 2ms/step - loss: 0.4581 - accuracy: 0.7894 - val_loss: 0.4842 - val_accuracy: 0.7623\n",
      "Epoch 56/90\n",
      "1840/1840 [==============================] - 3s 1ms/step - loss: 0.4574 - accuracy: 0.7880 - val_loss: 0.4691 - val_accuracy: 0.7767\n",
      "Epoch 57/90\n",
      "1840/1840 [==============================] - 3s 1ms/step - loss: 0.4568 - accuracy: 0.7886 - val_loss: 0.4949 - val_accuracy: 0.7520\n",
      "Epoch 58/90\n",
      "1840/1840 [==============================] - 3s 1ms/step - loss: 0.4561 - accuracy: 0.7899 - val_loss: 0.4678 - val_accuracy: 0.7767\n",
      "Epoch 59/90\n",
      "1840/1840 [==============================] - 3s 1ms/step - loss: 0.4560 - accuracy: 0.7876 - val_loss: 0.4840 - val_accuracy: 0.7601\n",
      "Epoch 60/90\n",
      "1840/1840 [==============================] - 3s 1ms/step - loss: 0.4553 - accuracy: 0.7898 - val_loss: 0.4728 - val_accuracy: 0.7734\n",
      "Epoch 61/90\n",
      "1840/1840 [==============================] - 3s 1ms/step - loss: 0.4549 - accuracy: 0.7896 - val_loss: 0.4670 - val_accuracy: 0.7797\n",
      "Epoch 62/90\n",
      "1840/1840 [==============================] - 3s 1ms/step - loss: 0.4540 - accuracy: 0.7915 - val_loss: 0.4662 - val_accuracy: 0.7821\n",
      "Epoch 63/90\n",
      "1840/1840 [==============================] - 3s 1ms/step - loss: 0.4543 - accuracy: 0.7897 - val_loss: 0.4659 - val_accuracy: 0.7802\n",
      "Epoch 64/90\n",
      "1840/1840 [==============================] - 3s 1ms/step - loss: 0.4526 - accuracy: 0.7910 - val_loss: 0.4713 - val_accuracy: 0.7729\n",
      "Epoch 65/90\n",
      "1840/1840 [==============================] - 3s 1ms/step - loss: 0.4518 - accuracy: 0.7917 - val_loss: 0.4986 - val_accuracy: 0.7490\n",
      "Epoch 66/90\n",
      "1840/1840 [==============================] - 3s 1ms/step - loss: 0.4522 - accuracy: 0.7931 - val_loss: 0.4746 - val_accuracy: 0.7675\n",
      "Epoch 67/90\n",
      "1840/1840 [==============================] - 3s 1ms/step - loss: 0.4518 - accuracy: 0.7913 - val_loss: 0.4743 - val_accuracy: 0.7696\n",
      "Epoch 68/90\n",
      "1840/1840 [==============================] - 3s 1ms/step - loss: 0.4517 - accuracy: 0.7921 - val_loss: 0.4670 - val_accuracy: 0.7772\n",
      "Epoch 69/90\n",
      "1840/1840 [==============================] - 3s 1ms/step - loss: 0.4507 - accuracy: 0.7929 - val_loss: 0.4873 - val_accuracy: 0.7555\n",
      "Epoch 70/90\n",
      "1840/1840 [==============================] - 3s 1ms/step - loss: 0.4498 - accuracy: 0.7934 - val_loss: 0.4641 - val_accuracy: 0.7808\n",
      "Epoch 71/90\n",
      "1840/1840 [==============================] - 3s 1ms/step - loss: 0.4498 - accuracy: 0.7943 - val_loss: 0.4720 - val_accuracy: 0.7748\n",
      "Epoch 72/90\n",
      "1840/1840 [==============================] - 3s 1ms/step - loss: 0.4507 - accuracy: 0.7925 - val_loss: 0.4641 - val_accuracy: 0.7808\n",
      "Epoch 73/90\n",
      "1840/1840 [==============================] - 3s 1ms/step - loss: 0.4490 - accuracy: 0.7935 - val_loss: 0.4631 - val_accuracy: 0.7829\n",
      "Epoch 74/90\n",
      "1840/1840 [==============================] - 3s 1ms/step - loss: 0.4475 - accuracy: 0.7960 - val_loss: 0.4638 - val_accuracy: 0.7813\n",
      "Epoch 75/90\n",
      "1840/1840 [==============================] - 3s 1ms/step - loss: 0.4480 - accuracy: 0.7951 - val_loss: 0.4627 - val_accuracy: 0.7848\n",
      "Epoch 76/90\n",
      "1840/1840 [==============================] - 3s 1ms/step - loss: 0.4474 - accuracy: 0.7939 - val_loss: 0.4804 - val_accuracy: 0.7617\n",
      "Epoch 77/90\n",
      "1840/1840 [==============================] - 3s 1ms/step - loss: 0.4471 - accuracy: 0.7944 - val_loss: 0.4630 - val_accuracy: 0.7819\n",
      "Epoch 78/90\n",
      "1840/1840 [==============================] - 3s 1ms/step - loss: 0.4469 - accuracy: 0.7952 - val_loss: 0.4790 - val_accuracy: 0.7653\n",
      "Epoch 79/90\n",
      "1840/1840 [==============================] - 3s 1ms/step - loss: 0.4461 - accuracy: 0.7953 - val_loss: 0.4711 - val_accuracy: 0.7702\n",
      "Epoch 80/90\n",
      "1840/1840 [==============================] - 3s 1ms/step - loss: 0.4462 - accuracy: 0.7949 - val_loss: 0.4729 - val_accuracy: 0.7683\n",
      "Epoch 81/90\n",
      "1840/1840 [==============================] - 3s 1ms/step - loss: 0.4447 - accuracy: 0.7972 - val_loss: 0.4653 - val_accuracy: 0.7764\n",
      "Epoch 82/90\n",
      "1840/1840 [==============================] - 3s 1ms/step - loss: 0.4454 - accuracy: 0.7966 - val_loss: 0.4614 - val_accuracy: 0.7835\n",
      "Epoch 83/90\n",
      "1840/1840 [==============================] - 3s 1ms/step - loss: 0.4445 - accuracy: 0.7975 - val_loss: 0.4670 - val_accuracy: 0.7761\n",
      "Epoch 84/90\n",
      "1840/1840 [==============================] - 3s 1ms/step - loss: 0.4449 - accuracy: 0.7985 - val_loss: 0.4627 - val_accuracy: 0.7789\n",
      "Epoch 85/90\n",
      "1840/1840 [==============================] - 3s 1ms/step - loss: 0.4449 - accuracy: 0.7945 - val_loss: 0.4605 - val_accuracy: 0.7840\n",
      "Epoch 86/90\n",
      "1840/1840 [==============================] - 3s 1ms/step - loss: 0.4440 - accuracy: 0.7959 - val_loss: 0.4630 - val_accuracy: 0.7800\n",
      "Epoch 87/90\n",
      "1840/1840 [==============================] - 3s 1ms/step - loss: 0.4431 - accuracy: 0.7977 - val_loss: 0.4707 - val_accuracy: 0.7767\n",
      "Epoch 88/90\n",
      "1840/1840 [==============================] - 3s 1ms/step - loss: 0.4435 - accuracy: 0.7946 - val_loss: 0.4600 - val_accuracy: 0.7827\n",
      "Epoch 89/90\n",
      "1840/1840 [==============================] - 3s 1ms/step - loss: 0.4429 - accuracy: 0.7973 - val_loss: 0.4599 - val_accuracy: 0.7838\n",
      "Epoch 90/90\n",
      "1840/1840 [==============================] - 2s 1ms/step - loss: 0.4420 - accuracy: 0.7965 - val_loss: 0.4756 - val_accuracy: 0.7637\n"
     ]
    }
   ],
   "source": [
    "y_train_gender = y_train\n",
    "y_test_gender = y_test\n",
    "y_train_gender[y_train_gender % 2 == 0] = 0\n",
    "y_train_gender[y_train_gender % 2 != 0] = 1\n",
    "y_test_gender[y_test_gender % 2 == 0] = 0\n",
    "y_test_gender[y_test_gender % 2 != 0] = 1\n",
    "\n",
    "classifier = classier_model(2622, 2)\n",
    "history = classifier.fit(X_train, y_train_gender, batch_size=16, epochs=100, validation_data=(X_test, y_test_gender))"
   ]
  },
  {
   "cell_type": "code",
   "execution_count": 13,
   "metadata": {},
   "outputs": [
    {
     "data": {
      "image/png": "[encoded data removed]",
      "text/plain": [
       "<Figure size 432x288 with 1 Axes>"
      ]
     },
     "metadata": {
      "needs_background": "light"
     },
     "output_type": "display_data"
    }
   ],
   "source": [
    "plotter(history)"
   ]
  },
  {
   "cell_type": "markdown",
   "metadata": {},
   "source": [
    "### Age Group Classification\n",
    "Train classifier to recognize the different age groups (not taking into account gender)."
   ]
  },
  {
   "cell_type": "code",
   "execution_count": 30,
   "metadata": {},
   "outputs": [
    {
     "name": "stdout",
     "output_type": "stream",
     "text": [
      "70\n",
      "70\n",
      "Epoch 1/100\n",
      " 653/1840 [=========>....................] - ETA: 6s - loss: 0.0336 - accuracy: 0.9984"
     ]
    },
    {
     "ename": "KeyboardInterrupt",
     "evalue": "",
     "output_type": "error",
     "traceback": [
      "\u001b[1;31m---------------------------------------------------------------------------\u001b[0m",
      "\u001b[1;31mKeyboardInterrupt\u001b[0m                         Traceback (most recent call last)",
      "\u001b[1;32m<ipython-input-30-8d02ac22d822>\u001b[0m in \u001b[0;36m<module>\u001b[1;34m\u001b[0m\n\u001b[0;32m     13\u001b[0m \u001b[1;33m\u001b[0m\u001b[0m\n\u001b[0;32m     14\u001b[0m \u001b[0mclassifier\u001b[0m \u001b[1;33m=\u001b[0m \u001b[0mclassier_model\u001b[0m\u001b[1;33m(\u001b[0m\u001b[1;36m2622\u001b[0m\u001b[1;33m,\u001b[0m \u001b[1;36m2\u001b[0m\u001b[1;33m)\u001b[0m\u001b[1;33m\u001b[0m\u001b[0m\n\u001b[1;32m---> 15\u001b[1;33m \u001b[0mhistory\u001b[0m \u001b[1;33m=\u001b[0m \u001b[0mclassifier\u001b[0m\u001b[1;33m.\u001b[0m\u001b[0mfit\u001b[0m\u001b[1;33m(\u001b[0m\u001b[0mX_train\u001b[0m\u001b[1;33m,\u001b[0m \u001b[0my_train_age\u001b[0m\u001b[1;33m,\u001b[0m \u001b[0mbatch_size\u001b[0m\u001b[1;33m=\u001b[0m\u001b[1;36m16\u001b[0m\u001b[1;33m,\u001b[0m \u001b[0mepochs\u001b[0m\u001b[1;33m=\u001b[0m\u001b[1;36m100\u001b[0m\u001b[1;33m,\u001b[0m \u001b[0mvalidation_data\u001b[0m\u001b[1;33m=\u001b[0m\u001b[1;33m(\u001b[0m\u001b[0mX_test\u001b[0m\u001b[1;33m,\u001b[0m \u001b[0my_test_age\u001b[0m\u001b[1;33m)\u001b[0m\u001b[1;33m)\u001b[0m\u001b[1;33m\u001b[0m\u001b[0m\n\u001b[0m",
      "\u001b[1;32mc:\\gajan\\projects\\matroid-challenge\\venv\\lib\\site-packages\\tensorflow\\python\\keras\\engine\\training.py\u001b[0m in \u001b[0;36m_method_wrapper\u001b[1;34m(self, *args, **kwargs)\u001b[0m\n\u001b[0;32m     64\u001b[0m   \u001b[1;32mdef\u001b[0m \u001b[0m_method_wrapper\u001b[0m\u001b[1;33m(\u001b[0m\u001b[0mself\u001b[0m\u001b[1;33m,\u001b[0m \u001b[1;33m*\u001b[0m\u001b[0margs\u001b[0m\u001b[1;33m,\u001b[0m \u001b[1;33m**\u001b[0m\u001b[0mkwargs\u001b[0m\u001b[1;33m)\u001b[0m\u001b[1;33m:\u001b[0m\u001b[1;33m\u001b[0m\u001b[0m\n\u001b[0;32m     65\u001b[0m     \u001b[1;32mif\u001b[0m \u001b[1;32mnot\u001b[0m \u001b[0mself\u001b[0m\u001b[1;33m.\u001b[0m\u001b[0m_in_multi_worker_mode\u001b[0m\u001b[1;33m(\u001b[0m\u001b[1;33m)\u001b[0m\u001b[1;33m:\u001b[0m  \u001b[1;31m# pylint: disable=protected-access\u001b[0m\u001b[1;33m\u001b[0m\u001b[0m\n\u001b[1;32m---> 66\u001b[1;33m       \u001b[1;32mreturn\u001b[0m \u001b[0mmethod\u001b[0m\u001b[1;33m(\u001b[0m\u001b[0mself\u001b[0m\u001b[1;33m,\u001b[0m \u001b[1;33m*\u001b[0m\u001b[0margs\u001b[0m\u001b[1;33m,\u001b[0m \u001b[1;33m**\u001b[0m\u001b[0mkwargs\u001b[0m\u001b[1;33m)\u001b[0m\u001b[1;33m\u001b[0m\u001b[0m\n\u001b[0m\u001b[0;32m     67\u001b[0m \u001b[1;33m\u001b[0m\u001b[0m\n\u001b[0;32m     68\u001b[0m     \u001b[1;31m# Running inside `run_distribute_coordinator` already.\u001b[0m\u001b[1;33m\u001b[0m\u001b[1;33m\u001b[0m\u001b[0m\n",
      "\u001b[1;32mc:\\gajan\\projects\\matroid-challenge\\venv\\lib\\site-packages\\tensorflow\\python\\keras\\engine\\training.py\u001b[0m in \u001b[0;36mfit\u001b[1;34m(self, x, y, batch_size, epochs, verbose, callbacks, validation_split, validation_data, shuffle, class_weight, sample_weight, initial_epoch, steps_per_epoch, validation_steps, validation_batch_size, validation_freq, max_queue_size, workers, use_multiprocessing)\u001b[0m\n\u001b[0;32m    853\u001b[0m                 \u001b[0mcontext\u001b[0m\u001b[1;33m.\u001b[0m\u001b[0masync_wait\u001b[0m\u001b[1;33m(\u001b[0m\u001b[1;33m)\u001b[0m\u001b[1;33m\u001b[0m\u001b[0m\n\u001b[0;32m    854\u001b[0m               \u001b[0mlogs\u001b[0m \u001b[1;33m=\u001b[0m \u001b[0mtmp_logs\u001b[0m  \u001b[1;31m# No error, now safe to assign to logs.\u001b[0m\u001b[1;33m\u001b[0m\u001b[0m\n\u001b[1;32m--> 855\u001b[1;33m               \u001b[0mcallbacks\u001b[0m\u001b[1;33m.\u001b[0m\u001b[0mon_train_batch_end\u001b[0m\u001b[1;33m(\u001b[0m\u001b[0mstep\u001b[0m\u001b[1;33m,\u001b[0m \u001b[0mlogs\u001b[0m\u001b[1;33m)\u001b[0m\u001b[1;33m\u001b[0m\u001b[0m\n\u001b[0m\u001b[0;32m    856\u001b[0m         \u001b[0mepoch_logs\u001b[0m \u001b[1;33m=\u001b[0m \u001b[0mcopy\u001b[0m\u001b[1;33m.\u001b[0m\u001b[0mcopy\u001b[0m\u001b[1;33m(\u001b[0m\u001b[0mlogs\u001b[0m\u001b[1;33m)\u001b[0m\u001b[1;33m\u001b[0m\u001b[0m\n\u001b[0;32m    857\u001b[0m \u001b[1;33m\u001b[0m\u001b[0m\n",
      "\u001b[1;32mc:\\gajan\\projects\\matroid-challenge\\venv\\lib\\site-packages\\tensorflow\\python\\keras\\callbacks.py\u001b[0m in \u001b[0;36mon_train_batch_end\u001b[1;34m(self, batch, logs)\u001b[0m\n\u001b[0;32m    388\u001b[0m     \u001b[1;32mif\u001b[0m \u001b[0mself\u001b[0m\u001b[1;33m.\u001b[0m\u001b[0m_should_call_train_batch_hooks\u001b[0m\u001b[1;33m:\u001b[0m\u001b[1;33m\u001b[0m\u001b[0m\n\u001b[0;32m    389\u001b[0m       \u001b[0mlogs\u001b[0m \u001b[1;33m=\u001b[0m \u001b[0mself\u001b[0m\u001b[1;33m.\u001b[0m\u001b[0m_process_logs\u001b[0m\u001b[1;33m(\u001b[0m\u001b[0mlogs\u001b[0m\u001b[1;33m)\u001b[0m\u001b[1;33m\u001b[0m\u001b[0m\n\u001b[1;32m--> 390\u001b[1;33m       \u001b[0mself\u001b[0m\u001b[1;33m.\u001b[0m\u001b[0m_call_batch_hook\u001b[0m\u001b[1;33m(\u001b[0m\u001b[0mModeKeys\u001b[0m\u001b[1;33m.\u001b[0m\u001b[0mTRAIN\u001b[0m\u001b[1;33m,\u001b[0m \u001b[1;34m'end'\u001b[0m\u001b[1;33m,\u001b[0m \u001b[0mbatch\u001b[0m\u001b[1;33m,\u001b[0m \u001b[0mlogs\u001b[0m\u001b[1;33m=\u001b[0m\u001b[0mlogs\u001b[0m\u001b[1;33m)\u001b[0m\u001b[1;33m\u001b[0m\u001b[0m\n\u001b[0m\u001b[0;32m    391\u001b[0m \u001b[1;33m\u001b[0m\u001b[0m\n\u001b[0;32m    392\u001b[0m   \u001b[1;32mdef\u001b[0m \u001b[0mon_test_batch_begin\u001b[0m\u001b[1;33m(\u001b[0m\u001b[0mself\u001b[0m\u001b[1;33m,\u001b[0m \u001b[0mbatch\u001b[0m\u001b[1;33m,\u001b[0m \u001b[0mlogs\u001b[0m\u001b[1;33m=\u001b[0m\u001b[1;32mNone\u001b[0m\u001b[1;33m)\u001b[0m\u001b[1;33m:\u001b[0m\u001b[1;33m\u001b[0m\u001b[0m\n",
      "\u001b[1;32mc:\\gajan\\projects\\matroid-challenge\\venv\\lib\\site-packages\\tensorflow\\python\\keras\\callbacks.py\u001b[0m in \u001b[0;36m_call_batch_hook\u001b[1;34m(self, mode, hook, batch, logs)\u001b[0m\n\u001b[0;32m    299\u001b[0m     \u001b[0mself\u001b[0m\u001b[1;33m.\u001b[0m\u001b[0m_delta_ts\u001b[0m\u001b[1;33m[\u001b[0m\u001b[0mhook_name\u001b[0m\u001b[1;33m]\u001b[0m\u001b[1;33m.\u001b[0m\u001b[0mappend\u001b[0m\u001b[1;33m(\u001b[0m\u001b[0mtime\u001b[0m\u001b[1;33m.\u001b[0m\u001b[0mtime\u001b[0m\u001b[1;33m(\u001b[0m\u001b[1;33m)\u001b[0m \u001b[1;33m-\u001b[0m \u001b[0mt_before_callbacks\u001b[0m\u001b[1;33m)\u001b[0m\u001b[1;33m\u001b[0m\u001b[0m\n\u001b[0;32m    300\u001b[0m \u001b[1;33m\u001b[0m\u001b[0m\n\u001b[1;32m--> 301\u001b[1;33m     \u001b[0mdelta_t_median\u001b[0m \u001b[1;33m=\u001b[0m \u001b[0mnp\u001b[0m\u001b[1;33m.\u001b[0m\u001b[0mmedian\u001b[0m\u001b[1;33m(\u001b[0m\u001b[0mself\u001b[0m\u001b[1;33m.\u001b[0m\u001b[0m_delta_ts\u001b[0m\u001b[1;33m[\u001b[0m\u001b[0mhook_name\u001b[0m\u001b[1;33m]\u001b[0m\u001b[1;33m)\u001b[0m\u001b[1;33m\u001b[0m\u001b[0m\n\u001b[0m\u001b[0;32m    302\u001b[0m     if (self._delta_t_batch > 0. and\n\u001b[0;32m    303\u001b[0m         delta_t_median > 0.95 * self._delta_t_batch and delta_t_median > 0.1):\n",
      "\u001b[1;32m<__array_function__ internals>\u001b[0m in \u001b[0;36mmedian\u001b[1;34m(*args, **kwargs)\u001b[0m\n",
      "\u001b[1;32mc:\\gajan\\projects\\matroid-challenge\\venv\\lib\\site-packages\\numpy\\lib\\function_base.py\u001b[0m in \u001b[0;36mmedian\u001b[1;34m(a, axis, out, overwrite_input, keepdims)\u001b[0m\n\u001b[0;32m   3519\u001b[0m     \"\"\"\n\u001b[0;32m   3520\u001b[0m     r, k = _ureduce(a, func=_median, axis=axis, out=out,\n\u001b[1;32m-> 3521\u001b[1;33m                     overwrite_input=overwrite_input)\n\u001b[0m\u001b[0;32m   3522\u001b[0m     \u001b[1;32mif\u001b[0m \u001b[0mkeepdims\u001b[0m\u001b[1;33m:\u001b[0m\u001b[1;33m\u001b[0m\u001b[0m\n\u001b[0;32m   3523\u001b[0m         \u001b[1;32mreturn\u001b[0m \u001b[0mr\u001b[0m\u001b[1;33m.\u001b[0m\u001b[0mreshape\u001b[0m\u001b[1;33m(\u001b[0m\u001b[0mk\u001b[0m\u001b[1;33m)\u001b[0m\u001b[1;33m\u001b[0m\u001b[0m\n",
      "\u001b[1;32mc:\\gajan\\projects\\matroid-challenge\\venv\\lib\\site-packages\\numpy\\lib\\function_base.py\u001b[0m in \u001b[0;36m_ureduce\u001b[1;34m(a, func, **kwargs)\u001b[0m\n\u001b[0;32m   3427\u001b[0m         \u001b[0mkeepdim\u001b[0m \u001b[1;33m=\u001b[0m \u001b[1;33m(\u001b[0m\u001b[1;36m1\u001b[0m\u001b[1;33m,\u001b[0m\u001b[1;33m)\u001b[0m \u001b[1;33m*\u001b[0m \u001b[0ma\u001b[0m\u001b[1;33m.\u001b[0m\u001b[0mndim\u001b[0m\u001b[1;33m\u001b[0m\u001b[0m\n\u001b[0;32m   3428\u001b[0m \u001b[1;33m\u001b[0m\u001b[0m\n\u001b[1;32m-> 3429\u001b[1;33m     \u001b[0mr\u001b[0m \u001b[1;33m=\u001b[0m \u001b[0mfunc\u001b[0m\u001b[1;33m(\u001b[0m\u001b[0ma\u001b[0m\u001b[1;33m,\u001b[0m \u001b[1;33m**\u001b[0m\u001b[0mkwargs\u001b[0m\u001b[1;33m)\u001b[0m\u001b[1;33m\u001b[0m\u001b[0m\n\u001b[0m\u001b[0;32m   3430\u001b[0m     \u001b[1;32mreturn\u001b[0m \u001b[0mr\u001b[0m\u001b[1;33m,\u001b[0m \u001b[0mkeepdim\u001b[0m\u001b[1;33m\u001b[0m\u001b[0m\n\u001b[0;32m   3431\u001b[0m \u001b[1;33m\u001b[0m\u001b[0m\n",
      "\u001b[1;32mc:\\gajan\\projects\\matroid-challenge\\venv\\lib\\site-packages\\numpy\\lib\\function_base.py\u001b[0m in \u001b[0;36m_median\u001b[1;34m(a, axis, out, overwrite_input)\u001b[0m\n\u001b[0;32m   3553\u001b[0m             \u001b[0mpart\u001b[0m \u001b[1;33m=\u001b[0m \u001b[0ma\u001b[0m\u001b[1;33m\u001b[0m\u001b[0m\n\u001b[0;32m   3554\u001b[0m     \u001b[1;32melse\u001b[0m\u001b[1;33m:\u001b[0m\u001b[1;33m\u001b[0m\u001b[0m\n\u001b[1;32m-> 3555\u001b[1;33m         \u001b[0mpart\u001b[0m \u001b[1;33m=\u001b[0m \u001b[0mpartition\u001b[0m\u001b[1;33m(\u001b[0m\u001b[0ma\u001b[0m\u001b[1;33m,\u001b[0m \u001b[0mkth\u001b[0m\u001b[1;33m,\u001b[0m \u001b[0maxis\u001b[0m\u001b[1;33m=\u001b[0m\u001b[0maxis\u001b[0m\u001b[1;33m)\u001b[0m\u001b[1;33m\u001b[0m\u001b[0m\n\u001b[0m\u001b[0;32m   3556\u001b[0m \u001b[1;33m\u001b[0m\u001b[0m\n\u001b[0;32m   3557\u001b[0m     \u001b[1;32mif\u001b[0m \u001b[0mpart\u001b[0m\u001b[1;33m.\u001b[0m\u001b[0mshape\u001b[0m \u001b[1;33m==\u001b[0m \u001b[1;33m(\u001b[0m\u001b[1;33m)\u001b[0m\u001b[1;33m:\u001b[0m\u001b[1;33m\u001b[0m\u001b[0m\n",
      "\u001b[1;32m<__array_function__ internals>\u001b[0m in \u001b[0;36mpartition\u001b[1;34m(*args, **kwargs)\u001b[0m\n",
      "\u001b[1;32mc:\\gajan\\projects\\matroid-challenge\\venv\\lib\\site-packages\\numpy\\core\\fromnumeric.py\u001b[0m in \u001b[0;36mpartition\u001b[1;34m(a, kth, axis, kind, order)\u001b[0m\n\u001b[0;32m    746\u001b[0m     \u001b[1;32melse\u001b[0m\u001b[1;33m:\u001b[0m\u001b[1;33m\u001b[0m\u001b[0m\n\u001b[0;32m    747\u001b[0m         \u001b[0ma\u001b[0m \u001b[1;33m=\u001b[0m \u001b[0masanyarray\u001b[0m\u001b[1;33m(\u001b[0m\u001b[0ma\u001b[0m\u001b[1;33m)\u001b[0m\u001b[1;33m.\u001b[0m\u001b[0mcopy\u001b[0m\u001b[1;33m(\u001b[0m\u001b[0morder\u001b[0m\u001b[1;33m=\u001b[0m\u001b[1;34m\"K\"\u001b[0m\u001b[1;33m)\u001b[0m\u001b[1;33m\u001b[0m\u001b[0m\n\u001b[1;32m--> 748\u001b[1;33m     \u001b[0ma\u001b[0m\u001b[1;33m.\u001b[0m\u001b[0mpartition\u001b[0m\u001b[1;33m(\u001b[0m\u001b[0mkth\u001b[0m\u001b[1;33m,\u001b[0m \u001b[0maxis\u001b[0m\u001b[1;33m=\u001b[0m\u001b[0maxis\u001b[0m\u001b[1;33m,\u001b[0m \u001b[0mkind\u001b[0m\u001b[1;33m=\u001b[0m\u001b[0mkind\u001b[0m\u001b[1;33m,\u001b[0m \u001b[0morder\u001b[0m\u001b[1;33m=\u001b[0m\u001b[0morder\u001b[0m\u001b[1;33m)\u001b[0m\u001b[1;33m\u001b[0m\u001b[0m\n\u001b[0m\u001b[0;32m    749\u001b[0m     \u001b[1;32mreturn\u001b[0m \u001b[0ma\u001b[0m\u001b[1;33m\u001b[0m\u001b[0m\n\u001b[0;32m    750\u001b[0m \u001b[1;33m\u001b[0m\u001b[0m\n",
      "\u001b[1;31mKeyboardInterrupt\u001b[0m: "
     ]
    }
   ],
   "source": [
    "def labels(y):\n",
    "    t = 0\n",
    "    for i in range(0, 140, 2):\n",
    "        bound = i + 2\n",
    "        y[ y == i] = t\n",
    "        y[ y == i+1 ] = t\n",
    "        t += 1\n",
    "    print(t)\n",
    "    return y\n",
    "\n",
    "y_train_age = labels(y_train)\n",
    "y_test_age = labels(y_test)\n",
    "\n",
    "classifier = classier_model(2622, 2)\n",
    "history = classifier.fit(X_train, y_train_age, batch_size=16, epochs=100, validation_data=(X_test, y_test_age))"
   ]
  },
  {
   "cell_type": "code",
   "execution_count": null,
   "metadata": {},
   "outputs": [],
   "source": [
    "plotter(history)"
   ]
  },
  {
   "cell_type": "markdown",
   "metadata": {},
   "source": [
    "### Gender and Age Group Classification\n",
    "Train classifier to recognize gender across 7 different age groups (1-10, 11-20, 21-30, 31-40, 41-50, 51-60, 61-70). Each age group has 2 genders."
   ]
  },
  {
   "cell_type": "code",
   "execution_count": null,
   "metadata": {},
   "outputs": [],
   "source": [
    "y_train_agegender = y_train\n",
    "y_test_agegender = y_test\n",
    "\n",
    "def age_gender_label(arr):\n",
    "    i = 0\n",
    "    while \n",
    "\n",
    "classifier = classier_model(2622, 2)\n",
    "history = classifier.fit(X_train, y_train_agegender, batch_size=16, epochs=100, validation_data=(X_test, y_test_agegender))"
   ]
  },
  {
   "cell_type": "markdown",
   "metadata": {},
   "source": [
    "Train classifier on all the classes."
   ]
  },
  {
   "cell_type": "code",
   "execution_count": null,
   "metadata": {},
   "outputs": [
    {
     "name": "stdout",
     "output_type": "stream",
     "text": [
      "Epoch 1/100\n",
      "460/460 [==============================] - 1s 2ms/step - loss: 0.8000 - accuracy: 0.5722 - val_loss: 0.6628 - val_accuracy: 0.6148\n",
      "Epoch 2/100\n",
      "460/460 [==============================] - 1s 2ms/step - loss: 0.6495 - accuracy: 0.6400 - val_loss: 0.6338 - val_accuracy: 0.6553\n",
      "Epoch 3/100\n",
      "460/460 [==============================] - 1s 2ms/step - loss: 0.6275 - accuracy: 0.6642 - val_loss: 0.6134 - val_accuracy: 0.6838\n",
      "Epoch 4/100\n",
      "460/460 [==============================] - 1s 2ms/step - loss: 0.6114 - accuracy: 0.6798 - val_loss: 0.6003 - val_accuracy: 0.6895\n",
      "Epoch 5/100\n",
      "460/460 [==============================] - 1s 2ms/step - loss: 0.5981 - accuracy: 0.6908 - val_loss: 0.5882 - val_accuracy: 0.7025\n",
      "Epoch 6/100\n",
      "460/460 [==============================] - 1s 2ms/step - loss: 0.5875 - accuracy: 0.7021 - val_loss: 0.5802 - val_accuracy: 0.7115\n",
      "Epoch 7/100\n",
      "460/460 [==============================] - 1s 2ms/step - loss: 0.5786 - accuracy: 0.7076 - val_loss: 0.5800 - val_accuracy: 0.6965\n",
      "Epoch 8/100\n",
      "460/460 [==============================] - 1s 2ms/step - loss: 0.5715 - accuracy: 0.7132 - val_loss: 0.5663 - val_accuracy: 0.7167\n",
      "Epoch 9/100\n",
      "460/460 [==============================] - 1s 2ms/step - loss: 0.5651 - accuracy: 0.7180 - val_loss: 0.5594 - val_accuracy: 0.7245\n",
      "Epoch 10/100\n",
      "460/460 [==============================] - 1s 2ms/step - loss: 0.5592 - accuracy: 0.7212 - val_loss: 0.5541 - val_accuracy: 0.7259\n",
      "Epoch 11/100\n",
      "460/460 [==============================] - 1s 2ms/step - loss: 0.5541 - accuracy: 0.7274 - val_loss: 0.5524 - val_accuracy: 0.7221\n",
      "Epoch 12/100\n",
      "460/460 [==============================] - 1s 2ms/step - loss: 0.5502 - accuracy: 0.7296 - val_loss: 0.5465 - val_accuracy: 0.7321\n",
      "Epoch 13/100\n",
      "460/460 [==============================] - 1s 2ms/step - loss: 0.5454 - accuracy: 0.7323 - val_loss: 0.5430 - val_accuracy: 0.7351\n",
      "Epoch 14/100\n",
      "460/460 [==============================] - 1s 2ms/step - loss: 0.5417 - accuracy: 0.7348 - val_loss: 0.5395 - val_accuracy: 0.7327\n",
      "Epoch 15/100\n",
      "460/460 [==============================] - 1s 2ms/step - loss: 0.5384 - accuracy: 0.7353 - val_loss: 0.5357 - val_accuracy: 0.7359\n",
      "Epoch 16/100\n",
      "460/460 [==============================] - 1s 2ms/step - loss: 0.5354 - accuracy: 0.7389 - val_loss: 0.5373 - val_accuracy: 0.7357\n",
      "Epoch 17/100\n",
      "460/460 [==============================] - 1s 2ms/step - loss: 0.5322 - accuracy: 0.7398 - val_loss: 0.5323 - val_accuracy: 0.7373\n",
      "Epoch 18/100\n",
      "205/460 [============>.................] - ETA: 0s - loss: 0.5337 - accuracy: 0.7425"
     ]
    }
   ],
   "source": [
    "classifier = classier_model(2622, 140)\n",
    "history = classifier.fit(X_train, y_train, batch_size=64, epochs=100, validation_data=(X_test, y_test))"
   ]
  },
  {
   "cell_type": "markdown",
   "metadata": {},
   "source": [
    "Train classifier on each class."
   ]
  },
  {
   "cell_type": "code",
   "execution_count": null,
   "metadata": {},
   "outputs": [],
   "source": [
    "def train():\n",
    "    acc = {}\n",
    "    for i in range(0, 70, 2):\n",
    "        classifier = classier_model(2622, 2)\n",
    "        female_train = np.where(y_train == i)[0]\n",
    "        female_test = np.where(y_test == i)[0]\n",
    "        male_train = np.where(y_train == i+1)[0]\n",
    "        male_test = np.where(y_test == i+1)[0]\n",
    "\n",
    "        X_train_label = np.concatenate((X_train[female_train], X_train[male_train]), axis=0)\n",
    "        y_train_label = np.concatenate((y_train[female_train], y_train[male_train]), axis=0) \n",
    "        X_test_label = np.concatenate((X_test[female_test], X_test[male_test]), axis=0)\n",
    "        y_test_label = np.concatenate((y_test[female_test], y_test[male_test]), axis=0)\n",
    "        print(len(X_train_label))\n",
    "        print(len(y_train_label))\n",
    "        print(len(X_test_label))\n",
    "        print(len(y_test_label))\n",
    "\n",
    "        history = classifier.fit(X_train_label, y_train_label, epochs=100, validation_data=(X_test_label,y_test_label), verbose=0)\n",
    "        train_acc = history.history['accuracy'][-1]\n",
    "        val_acc = history.history['val_accuracy'][-1]\n",
    "        acc[i] = {'train': train_acc, 'val': val_acc}\n",
    "        print(acc[i])\n",
    "    return acc\n",
    "\n",
    "acc = train()"
   ]
  },
  {
   "cell_type": "code",
   "execution_count": null,
   "metadata": {},
   "outputs": [],
   "source": [
    "print(acc)"
   ]
  },
  {
   "cell_type": "markdown",
   "metadata": {},
   "source": [
    "## Results"
   ]
  },
  {
   "cell_type": "code",
   "execution_count": null,
   "metadata": {},
   "outputs": [],
   "source": []
  },
  {
   "cell_type": "code",
   "execution_count": null,
   "metadata": {},
   "outputs": [],
   "source": []
  }
 ],
 "metadata": {
  "kernelspec": {
   "display_name": "Python 3",
   "language": "python",
   "name": "python3"
  },
  "language_info": {
   "codemirror_mode": {
    "name": "ipython",
    "version": 3
   },
   "file_extension": ".py",
   "mimetype": "text/x-python",
   "name": "python",
   "nbconvert_exporter": "python",
   "pygments_lexer": "ipython3",
   "version": "3.6.4"
  }
 },
 "nbformat": 4,
 "nbformat_minor": 4
}
