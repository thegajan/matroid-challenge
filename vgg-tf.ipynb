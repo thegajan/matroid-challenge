{
 "cells": [
  {
   "cell_type": "markdown",
   "metadata": {},
   "source": [
    "# Tensorflow Implementation of VGG Face Detector"
   ]
  },
  {
   "cell_type": "markdown",
   "metadata": {},
   "source": [
    "Objective: Convert the VGG face descriptor model http://www.robots.ox.ac.uk/~vgg/software/vgg_face/ to Tensorflow format.\n",
    "<br>\n",
    "Output: Final Tensorflow classifier model trained on the gender dataset"
   ]
  },
  {
   "cell_type": "code",
   "execution_count": 1,
   "metadata": {},
   "outputs": [
    {
     "name": "stderr",
     "output_type": "stream",
     "text": [
      "Using TensorFlow backend.\n"
     ]
    }
   ],
   "source": [
    "import scipy.io as sio\n",
    "import tensorflow as tf\n",
    "from keras import backend as K\n",
    "from tensorflow.keras.models import Sequential, Model\n",
    "from tensorflow.keras.layers import Reshape, ZeroPadding2D, Convolution2D, MaxPooling2D, Dense, Dropout, Softmax, Flatten, Activation, BatchNormalization"
   ]
  },
  {
   "cell_type": "markdown",
   "metadata": {},
   "source": [
    "## Read .mat file for Model Description"
   ]
  },
  {
   "cell_type": "code",
   "execution_count": 2,
   "metadata": {},
   "outputs": [
    {
     "name": "stdout",
     "output_type": "stream",
     "text": [
      "['conv1_1']\n",
      "['relu1_1']\n",
      "['conv1_2']\n",
      "['relu1_2']\n",
      "['pool1']\n",
      "['conv2_1']\n",
      "['relu2_1']\n",
      "['conv2_2']\n",
      "['relu2_2']\n",
      "['pool2']\n",
      "['conv3_1']\n",
      "['relu3_1']\n",
      "['conv3_2']\n",
      "['relu3_2']\n",
      "['conv3_3']\n",
      "['relu3_3']\n",
      "['pool3']\n",
      "['conv4_1']\n",
      "['relu4_1']\n",
      "['conv4_2']\n",
      "['relu4_2']\n",
      "['conv4_3']\n",
      "['relu4_3']\n",
      "['pool4']\n",
      "['conv5_1']\n",
      "['relu5_1']\n",
      "['conv5_2']\n",
      "['relu5_2']\n",
      "['conv5_3']\n",
      "['relu5_3']\n",
      "['pool5']\n",
      "['fc6']\n",
      "['relu6']\n",
      "['dropout6']\n",
      "['fc7']\n",
      "['relu7']\n",
      "['dropout7']\n",
      "['fc8']\n",
      "['softmax']\n"
     ]
    }
   ],
   "source": [
    "def load_mat():\n",
    "    mat = sio.loadmat('data/vgg_face.mat', struct_as_record=False)\n",
    "    return mat\n",
    "\n",
    "mat = load_mat()\n",
    "net = mat['net'][0][0]\n",
    "mat_model = net.layers\n",
    "mat_model_layers = mat_model[0]\n",
    "num_mat_layers = mat_model_layers.shape[0]\n",
    "for layer in mat_model_layers:\n",
    "    print(layer[0][0].name)"
   ]
  },
  {
   "cell_type": "markdown",
   "metadata": {},
   "source": [
    "## VGG Architecture Implementation\n",
    "We can read the model described in the .mat file and build our tensorflow/keras model using clues. This way we can avoid reproducing it by hand. Additionally, this saves us the trouble of later applying the model weights from the .mat file to our tensorflow/keras model."
   ]
  },
  {
   "cell_type": "code",
   "execution_count": 3,
   "metadata": {},
   "outputs": [],
   "source": [
    "def vgg_tf():\n",
    "    model = Sequential()\n",
    "\n",
    "    for i in range(num_mat_layers):\n",
    "        mat_model_layer = mat_model_layers[i][0][0].name[0]\n",
    "        if mat_model_layer.find(\"conv\") == 0 or mat_model_layer.find(\"fc\") == 0:\n",
    "            weights = mat_model_layers[i][0,0].weights\n",
    "            weights_shape = weights[0][0].shape\n",
    "            filter_x = weights_shape[0]; filter_y = weights_shape[1]\n",
    "            number_of_filters = weights_shape[3]\n",
    "\n",
    "            if mat_model_layer.find(\"conv\") == 0:\n",
    "                print(\"ZeroPadding2D((1,1))\")\n",
    "                if i == 0:\n",
    "                    model.add(ZeroPadding2D((1,1),input_shape=(224,224, 3)))\n",
    "                else:\n",
    "                    model.add(ZeroPadding2D((1,1)))\n",
    "\n",
    "            print(\"Convolution2D(\",number_of_filters,\", (\",filter_x,\", \",filter_y,\"), name='\",mat_model_layer,\"')\")\n",
    "            model.add(Convolution2D(number_of_filters, (filter_x, filter_y), name= mat_model_layer))\n",
    "\n",
    "        else:\n",
    "            if mat_model_layer.find(\"relu\") == 0:\n",
    "                print(\"Activation('relu', name=\",mat_model_layer)\n",
    "                model.add(Activation('relu', name=mat_model_layer))\n",
    "            elif mat_model_layer.find(\"dropout\") == 0:\n",
    "                print(\"Dropout(0.5, name=\",mat_model_layer,\")\")\n",
    "                model.add(Dropout(0.5, name=mat_model_layer))\n",
    "            elif mat_model_layer.find(\"pool\") == 0:\n",
    "                print(\"MaxPooling2D((2,2), strides=(2,2), name=\",mat_model_layer,\")\")\n",
    "                model.add(MaxPooling2D((2,2), strides=(2,2), name=mat_model_layer))\n",
    "            elif mat_model_layer.find(\"softmax\") == 0:\n",
    "                print(\"Activation('softmax', name=\",mat_model_layer,\")\")\n",
    "                model.add(Activation('softmax', name=mat_model_layer))\n",
    "            else:\n",
    "                print(\"-->\",mat_model_layer)\n",
    "    return model"
   ]
  },
  {
   "cell_type": "markdown",
   "metadata": {},
   "source": [
    "Save model to .h5 file for use later."
   ]
  },
  {
   "cell_type": "code",
   "execution_count": 4,
   "metadata": {},
   "outputs": [
    {
     "name": "stdout",
     "output_type": "stream",
     "text": [
      "ZeroPadding2D((1,1))\n",
      "Convolution2D( 64 , ( 3 ,  3 ), name=' conv1_1 ')\n",
      "Activation('relu', name= relu1_1\n",
      "ZeroPadding2D((1,1))\n",
      "Convolution2D( 64 , ( 3 ,  3 ), name=' conv1_2 ')\n",
      "Activation('relu', name= relu1_2\n",
      "MaxPooling2D((2,2), strides=(2,2), name= pool1 )\n",
      "ZeroPadding2D((1,1))\n",
      "Convolution2D( 128 , ( 3 ,  3 ), name=' conv2_1 ')\n",
      "Activation('relu', name= relu2_1\n",
      "ZeroPadding2D((1,1))\n",
      "Convolution2D( 128 , ( 3 ,  3 ), name=' conv2_2 ')\n",
      "Activation('relu', name= relu2_2\n",
      "MaxPooling2D((2,2), strides=(2,2), name= pool2 )\n",
      "ZeroPadding2D((1,1))\n",
      "Convolution2D( 256 , ( 3 ,  3 ), name=' conv3_1 ')\n",
      "Activation('relu', name= relu3_1\n",
      "ZeroPadding2D((1,1))\n",
      "Convolution2D( 256 , ( 3 ,  3 ), name=' conv3_2 ')\n",
      "Activation('relu', name= relu3_2\n",
      "ZeroPadding2D((1,1))\n",
      "Convolution2D( 256 , ( 3 ,  3 ), name=' conv3_3 ')\n",
      "Activation('relu', name= relu3_3\n",
      "MaxPooling2D((2,2), strides=(2,2), name= pool3 )\n",
      "ZeroPadding2D((1,1))\n",
      "Convolution2D( 512 , ( 3 ,  3 ), name=' conv4_1 ')\n",
      "Activation('relu', name= relu4_1\n",
      "ZeroPadding2D((1,1))\n",
      "Convolution2D( 512 , ( 3 ,  3 ), name=' conv4_2 ')\n",
      "Activation('relu', name= relu4_2\n",
      "ZeroPadding2D((1,1))\n",
      "Convolution2D( 512 , ( 3 ,  3 ), name=' conv4_3 ')\n",
      "Activation('relu', name= relu4_3\n",
      "MaxPooling2D((2,2), strides=(2,2), name= pool4 )\n",
      "ZeroPadding2D((1,1))\n",
      "Convolution2D( 512 , ( 3 ,  3 ), name=' conv5_1 ')\n",
      "Activation('relu', name= relu5_1\n",
      "ZeroPadding2D((1,1))\n",
      "Convolution2D( 512 , ( 3 ,  3 ), name=' conv5_2 ')\n",
      "Activation('relu', name= relu5_2\n",
      "ZeroPadding2D((1,1))\n",
      "Convolution2D( 512 , ( 3 ,  3 ), name=' conv5_3 ')\n",
      "Activation('relu', name= relu5_3\n",
      "MaxPooling2D((2,2), strides=(2,2), name= pool5 )\n",
      "Convolution2D( 4096 , ( 7 ,  7 ), name=' fc6 ')\n",
      "Activation('relu', name= relu6\n",
      "Dropout(0.5, name= dropout6 )\n",
      "Convolution2D( 4096 , ( 1 ,  1 ), name=' fc7 ')\n",
      "Activation('relu', name= relu7\n",
      "Dropout(0.5, name= dropout7 )\n",
      "Convolution2D( 2622 , ( 1 ,  1 ), name=' fc8 ')\n",
      "Activation('softmax', name= softmax )\n"
     ]
    }
   ],
   "source": [
    "model = vgg_tf()\n",
    "model.save('data/vgg_face.h5')"
   ]
  },
  {
   "cell_type": "markdown",
   "metadata": {},
   "source": [
    "## Load Dataset"
   ]
  },
  {
   "cell_type": "code",
   "execution_count": 5,
   "metadata": {},
   "outputs": [],
   "source": [
    "from tensorflow.keras.preprocessing.image import load_img, img_to_array\n",
    "from tensorflow.keras.applications.imagenet_utils import preprocess_input\n",
    "from PIL import Image\n",
    "import numpy as np\n",
    "from tqdm import tqdm\n",
    "import os"
   ]
  },
  {
   "cell_type": "code",
   "execution_count": 6,
   "metadata": {},
   "outputs": [],
   "source": [
    "def pad(img):\n",
    "    ht, wd, cc= img.shape\n",
    "    ww = 224\n",
    "    hh = 224\n",
    "    color = (0,0,0)\n",
    "    result = np.full((hh,ww,cc), color, dtype=np.uint8)\n",
    "    xx = (ww - wd) // 2\n",
    "    yy = (hh - ht) // 2\n",
    "    result[yy:yy+ht, xx:xx+wd] = img\n",
    "    return result\n",
    "\n",
    "def load_img_file(path, model):\n",
    "    img = Image.open(path)\n",
    "#     img = load_img(path)\n",
    "    x = img_to_array(img) \n",
    "    x = pad(x)\n",
    "    x = np.expand_dims(x, axis=0)\n",
    "    x = preprocess_input(x)\n",
    "    x = model(x)\n",
    "    return x\n",
    "\n",
    "def load_data(path, model):\n",
    "    x = []\n",
    "    y = []\n",
    "    labels = {}\n",
    "    folders = os.listdir(path)\n",
    "    for i in tqdm(range(len(folders))):\n",
    "        labels[i] = folders[i]\n",
    "        label_path = path + '/' + folders[i]\n",
    "        images = os.listdir(label_path)\n",
    "        for image in images:\n",
    "            img = load_img_file(label_path + '/' + image, model)\n",
    "            x.append(np.squeeze(K.eval(img)).tolist())\n",
    "            y.append(i)\n",
    "    return x, y, labels"
   ]
  },
  {
   "cell_type": "code",
   "execution_count": 7,
   "metadata": {},
   "outputs": [],
   "source": [
    "X_train = y_train = labels = None\n",
    "try:\n",
    "    X_train = np.load('data/combined/X_train.npy', allow_pickle=True)\n",
    "    y_train = np.load('data/combined/y_train.npy', allow_pickle=True)\n",
    "    labels = np.load('data/combined/labels.npy', allow_pickle=True)[()]\n",
    "except:\n",
    "    X_train, y_train, labels = load_data('data/combined/aligned', model)\n",
    "    np.save('data/combined/X_train', X_train)\n",
    "    np.save('data/combined/y_train', y_train)\n",
    "    np.save('data/combined/labels', labels)"
   ]
  },
  {
   "cell_type": "code",
   "execution_count": 8,
   "metadata": {},
   "outputs": [],
   "source": [
    "X_test = y_test = None\n",
    "try:\n",
    "    X_test = np.load('data/combined/X_test.npy', allow_pickle=True)\n",
    "    y_test = np.load('data/combined/y_test.npy', allow_pickle=True)\n",
    "    labels = np.load('data/combined/labels.npy', allow_pickle=True)[()]\n",
    "except:\n",
    "    X_test, y_test, labels = load_data('data/combined/valid', model)\n",
    "    np.save('data/combined/X_test', X_test)\n",
    "    np.save('data/combined/y_test', y_test)"
   ]
  },
  {
   "cell_type": "code",
   "execution_count": 9,
   "metadata": {},
   "outputs": [
    {
     "name": "stdout",
     "output_type": "stream",
     "text": [
      "140\n"
     ]
    }
   ],
   "source": [
    "print(len(labels.keys()))"
   ]
  },
  {
   "cell_type": "markdown",
   "metadata": {},
   "source": [
    "## Construct Classifier "
   ]
  },
  {
   "cell_type": "code",
   "execution_count": 20,
   "metadata": {},
   "outputs": [],
   "source": [
    "def classier_model(input_dim, num_classes):\n",
    "    classifier = Sequential()\n",
    "    classifier.add(Dense(500, input_dim=input_dim))\n",
    "    classifier.add(BatchNormalization())\n",
    "    classifier.add(Activation('relu'))\n",
    "    classifier.add(Dropout(0.3))\n",
    "    classifier.add(Dense(250))\n",
    "    classifier.add(BatchNormalization())\n",
    "    classifier.add(Activation('relu'))\n",
    "    classifier.add(Dropout(0.3))\n",
    "    classifier.add(Dense(num_classes))\n",
    "    classifier.add(Activation('softmax'))\n",
    "    classifier.compile(loss=tf.keras.losses.SparseCategoricalCrossentropy(), optimizer='nadam', metrics=['accuracy'])\n",
    "    return classifier"
   ]
  },
  {
   "cell_type": "markdown",
   "metadata": {},
   "source": [
    "## Train Classifier"
   ]
  },
  {
   "cell_type": "code",
   "execution_count": 21,
   "metadata": {},
   "outputs": [],
   "source": [
    "from matplotlib import pyplot as plt\n",
    "\n",
    "def plotter(history):\n",
    "    plt.plot(history.history['acc'])\n",
    "    plt.plot(history.history['val_acc'])\n",
    "    plt.title('model accuracy')\n",
    "    plt.ylabel('accuracy')\n",
    "    plt.xlabel('epoch')\n",
    "    plt.legend(['train', 'val'], loc='upper left')\n",
    "    plt.show()"
   ]
  },
  {
   "cell_type": "markdown",
   "metadata": {},
   "source": [
    "### Gender Classification\n",
    "Train classifier for gender classification (of all ages together)."
   ]
  },
  {
   "cell_type": "code",
   "execution_count": null,
   "metadata": {},
   "outputs": [
    {
     "name": "stdout",
     "output_type": "stream",
     "text": [
      "Epoch 1/100\n",
      "387/460 [========================>.....] - ETA: 0s - loss: 0.5933 - accuracy: 0.6720"
     ]
    }
   ],
   "source": [
    "y_train_gender = y_train\n",
    "y_test_gender = y_test\n",
    "y_train_gender[y_train_gender % 2 == 0] = 0\n",
    "y_train_gender[y_train_gender % 2 != 0] = 1\n",
    "y_test_gender[y_test_gender % 2 == 0] = 0\n",
    "y_test_gender[y_test_gender % 2 != 0] = 1\n",
    "\n",
    "classifier = classier_model(2622, 2)\n",
    "history = classifier.fit(X_train, y_train_gender, batch_size=64, epochs=100, validation_data=(X_test, y_test_gender))\n",
    "plotter(history)"
   ]
  },
  {
   "cell_type": "markdown",
   "metadata": {},
   "source": [
    "Train classifier on all the classes."
   ]
  },
  {
   "cell_type": "code",
   "execution_count": 12,
   "metadata": {},
   "outputs": [
    {
     "name": "stdout",
     "output_type": "stream",
     "text": [
      "Epoch 1/100\n",
      "190/460 [===========>..................] - ETA: 3s - loss: 1.1001 - accuracy: 0.5697"
     ]
    },
    {
     "ename": "KeyboardInterrupt",
     "evalue": "",
     "output_type": "error",
     "traceback": [
      "\u001b[1;31m---------------------------------------------------------------------------\u001b[0m",
      "\u001b[1;31mKeyboardInterrupt\u001b[0m                         Traceback (most recent call last)",
      "\u001b[1;32m<ipython-input-12-a84aa2a66001>\u001b[0m in \u001b[0;36m<module>\u001b[1;34m\u001b[0m\n\u001b[0;32m      1\u001b[0m \u001b[0mclassifier\u001b[0m \u001b[1;33m=\u001b[0m \u001b[0mclassier_model\u001b[0m\u001b[1;33m(\u001b[0m\u001b[1;36m2622\u001b[0m\u001b[1;33m,\u001b[0m \u001b[1;36m140\u001b[0m\u001b[1;33m)\u001b[0m\u001b[1;33m\u001b[0m\u001b[0m\n\u001b[1;32m----> 2\u001b[1;33m \u001b[0mhistory\u001b[0m \u001b[1;33m=\u001b[0m \u001b[0mclassifier\u001b[0m\u001b[1;33m.\u001b[0m\u001b[0mfit\u001b[0m\u001b[1;33m(\u001b[0m\u001b[0mX_train\u001b[0m\u001b[1;33m,\u001b[0m \u001b[0my_train\u001b[0m\u001b[1;33m,\u001b[0m \u001b[0mbatch_size\u001b[0m\u001b[1;33m=\u001b[0m\u001b[1;36m64\u001b[0m\u001b[1;33m,\u001b[0m \u001b[0mepochs\u001b[0m\u001b[1;33m=\u001b[0m\u001b[1;36m100\u001b[0m\u001b[1;33m,\u001b[0m \u001b[0mvalidation_data\u001b[0m\u001b[1;33m=\u001b[0m\u001b[1;33m(\u001b[0m\u001b[0mX_test\u001b[0m\u001b[1;33m,\u001b[0m \u001b[0my_test\u001b[0m\u001b[1;33m)\u001b[0m\u001b[1;33m)\u001b[0m\u001b[1;33m\u001b[0m\u001b[0m\n\u001b[0m",
      "\u001b[1;32mc:\\gajan\\projects\\matroid-challenge\\venv\\lib\\site-packages\\tensorflow\\python\\keras\\engine\\training.py\u001b[0m in \u001b[0;36m_method_wrapper\u001b[1;34m(self, *args, **kwargs)\u001b[0m\n\u001b[0;32m     64\u001b[0m   \u001b[1;32mdef\u001b[0m \u001b[0m_method_wrapper\u001b[0m\u001b[1;33m(\u001b[0m\u001b[0mself\u001b[0m\u001b[1;33m,\u001b[0m \u001b[1;33m*\u001b[0m\u001b[0margs\u001b[0m\u001b[1;33m,\u001b[0m \u001b[1;33m**\u001b[0m\u001b[0mkwargs\u001b[0m\u001b[1;33m)\u001b[0m\u001b[1;33m:\u001b[0m\u001b[1;33m\u001b[0m\u001b[0m\n\u001b[0;32m     65\u001b[0m     \u001b[1;32mif\u001b[0m \u001b[1;32mnot\u001b[0m \u001b[0mself\u001b[0m\u001b[1;33m.\u001b[0m\u001b[0m_in_multi_worker_mode\u001b[0m\u001b[1;33m(\u001b[0m\u001b[1;33m)\u001b[0m\u001b[1;33m:\u001b[0m  \u001b[1;31m# pylint: disable=protected-access\u001b[0m\u001b[1;33m\u001b[0m\u001b[0m\n\u001b[1;32m---> 66\u001b[1;33m       \u001b[1;32mreturn\u001b[0m \u001b[0mmethod\u001b[0m\u001b[1;33m(\u001b[0m\u001b[0mself\u001b[0m\u001b[1;33m,\u001b[0m \u001b[1;33m*\u001b[0m\u001b[0margs\u001b[0m\u001b[1;33m,\u001b[0m \u001b[1;33m**\u001b[0m\u001b[0mkwargs\u001b[0m\u001b[1;33m)\u001b[0m\u001b[1;33m\u001b[0m\u001b[0m\n\u001b[0m\u001b[0;32m     67\u001b[0m \u001b[1;33m\u001b[0m\u001b[0m\n\u001b[0;32m     68\u001b[0m     \u001b[1;31m# Running inside `run_distribute_coordinator` already.\u001b[0m\u001b[1;33m\u001b[0m\u001b[1;33m\u001b[0m\u001b[0m\n",
      "\u001b[1;32mc:\\gajan\\projects\\matroid-challenge\\venv\\lib\\site-packages\\tensorflow\\python\\keras\\engine\\training.py\u001b[0m in \u001b[0;36mfit\u001b[1;34m(self, x, y, batch_size, epochs, verbose, callbacks, validation_split, validation_data, shuffle, class_weight, sample_weight, initial_epoch, steps_per_epoch, validation_steps, validation_batch_size, validation_freq, max_queue_size, workers, use_multiprocessing)\u001b[0m\n\u001b[0;32m    846\u001b[0m                 batch_size=batch_size):\n\u001b[0;32m    847\u001b[0m               \u001b[0mcallbacks\u001b[0m\u001b[1;33m.\u001b[0m\u001b[0mon_train_batch_begin\u001b[0m\u001b[1;33m(\u001b[0m\u001b[0mstep\u001b[0m\u001b[1;33m)\u001b[0m\u001b[1;33m\u001b[0m\u001b[0m\n\u001b[1;32m--> 848\u001b[1;33m               \u001b[0mtmp_logs\u001b[0m \u001b[1;33m=\u001b[0m \u001b[0mtrain_function\u001b[0m\u001b[1;33m(\u001b[0m\u001b[0miterator\u001b[0m\u001b[1;33m)\u001b[0m\u001b[1;33m\u001b[0m\u001b[0m\n\u001b[0m\u001b[0;32m    849\u001b[0m               \u001b[1;31m# Catch OutOfRangeError for Datasets of unknown size.\u001b[0m\u001b[1;33m\u001b[0m\u001b[1;33m\u001b[0m\u001b[0m\n\u001b[0;32m    850\u001b[0m               \u001b[1;31m# This blocks until the batch has finished executing.\u001b[0m\u001b[1;33m\u001b[0m\u001b[1;33m\u001b[0m\u001b[0m\n",
      "\u001b[1;32mc:\\gajan\\projects\\matroid-challenge\\venv\\lib\\site-packages\\tensorflow\\python\\eager\\def_function.py\u001b[0m in \u001b[0;36m__call__\u001b[1;34m(self, *args, **kwds)\u001b[0m\n\u001b[0;32m    578\u001b[0m         \u001b[0mxla_context\u001b[0m\u001b[1;33m.\u001b[0m\u001b[0mExit\u001b[0m\u001b[1;33m(\u001b[0m\u001b[1;33m)\u001b[0m\u001b[1;33m\u001b[0m\u001b[0m\n\u001b[0;32m    579\u001b[0m     \u001b[1;32melse\u001b[0m\u001b[1;33m:\u001b[0m\u001b[1;33m\u001b[0m\u001b[0m\n\u001b[1;32m--> 580\u001b[1;33m       \u001b[0mresult\u001b[0m \u001b[1;33m=\u001b[0m \u001b[0mself\u001b[0m\u001b[1;33m.\u001b[0m\u001b[0m_call\u001b[0m\u001b[1;33m(\u001b[0m\u001b[1;33m*\u001b[0m\u001b[0margs\u001b[0m\u001b[1;33m,\u001b[0m \u001b[1;33m**\u001b[0m\u001b[0mkwds\u001b[0m\u001b[1;33m)\u001b[0m\u001b[1;33m\u001b[0m\u001b[0m\n\u001b[0m\u001b[0;32m    581\u001b[0m \u001b[1;33m\u001b[0m\u001b[0m\n\u001b[0;32m    582\u001b[0m     \u001b[1;32mif\u001b[0m \u001b[0mtracing_count\u001b[0m \u001b[1;33m==\u001b[0m \u001b[0mself\u001b[0m\u001b[1;33m.\u001b[0m\u001b[0m_get_tracing_count\u001b[0m\u001b[1;33m(\u001b[0m\u001b[1;33m)\u001b[0m\u001b[1;33m:\u001b[0m\u001b[1;33m\u001b[0m\u001b[0m\n",
      "\u001b[1;32mc:\\gajan\\projects\\matroid-challenge\\venv\\lib\\site-packages\\tensorflow\\python\\eager\\def_function.py\u001b[0m in \u001b[0;36m_call\u001b[1;34m(self, *args, **kwds)\u001b[0m\n\u001b[0;32m    609\u001b[0m       \u001b[1;31m# In this case we have created variables on the first call, so we run the\u001b[0m\u001b[1;33m\u001b[0m\u001b[1;33m\u001b[0m\u001b[0m\n\u001b[0;32m    610\u001b[0m       \u001b[1;31m# defunned version which is guaranteed to never create variables.\u001b[0m\u001b[1;33m\u001b[0m\u001b[1;33m\u001b[0m\u001b[0m\n\u001b[1;32m--> 611\u001b[1;33m       \u001b[1;32mreturn\u001b[0m \u001b[0mself\u001b[0m\u001b[1;33m.\u001b[0m\u001b[0m_stateless_fn\u001b[0m\u001b[1;33m(\u001b[0m\u001b[1;33m*\u001b[0m\u001b[0margs\u001b[0m\u001b[1;33m,\u001b[0m \u001b[1;33m**\u001b[0m\u001b[0mkwds\u001b[0m\u001b[1;33m)\u001b[0m  \u001b[1;31m# pylint: disable=not-callable\u001b[0m\u001b[1;33m\u001b[0m\u001b[0m\n\u001b[0m\u001b[0;32m    612\u001b[0m     \u001b[1;32melif\u001b[0m \u001b[0mself\u001b[0m\u001b[1;33m.\u001b[0m\u001b[0m_stateful_fn\u001b[0m \u001b[1;32mis\u001b[0m \u001b[1;32mnot\u001b[0m \u001b[1;32mNone\u001b[0m\u001b[1;33m:\u001b[0m\u001b[1;33m\u001b[0m\u001b[0m\n\u001b[0;32m    613\u001b[0m       \u001b[1;31m# Release the lock early so that multiple threads can perform the call\u001b[0m\u001b[1;33m\u001b[0m\u001b[1;33m\u001b[0m\u001b[0m\n",
      "\u001b[1;32mc:\\gajan\\projects\\matroid-challenge\\venv\\lib\\site-packages\\tensorflow\\python\\eager\\function.py\u001b[0m in \u001b[0;36m__call__\u001b[1;34m(self, *args, **kwargs)\u001b[0m\n\u001b[0;32m   2418\u001b[0m     \u001b[1;32mwith\u001b[0m \u001b[0mself\u001b[0m\u001b[1;33m.\u001b[0m\u001b[0m_lock\u001b[0m\u001b[1;33m:\u001b[0m\u001b[1;33m\u001b[0m\u001b[0m\n\u001b[0;32m   2419\u001b[0m       \u001b[0mgraph_function\u001b[0m\u001b[1;33m,\u001b[0m \u001b[0margs\u001b[0m\u001b[1;33m,\u001b[0m \u001b[0mkwargs\u001b[0m \u001b[1;33m=\u001b[0m \u001b[0mself\u001b[0m\u001b[1;33m.\u001b[0m\u001b[0m_maybe_define_function\u001b[0m\u001b[1;33m(\u001b[0m\u001b[0margs\u001b[0m\u001b[1;33m,\u001b[0m \u001b[0mkwargs\u001b[0m\u001b[1;33m)\u001b[0m\u001b[1;33m\u001b[0m\u001b[0m\n\u001b[1;32m-> 2420\u001b[1;33m     \u001b[1;32mreturn\u001b[0m \u001b[0mgraph_function\u001b[0m\u001b[1;33m.\u001b[0m\u001b[0m_filtered_call\u001b[0m\u001b[1;33m(\u001b[0m\u001b[0margs\u001b[0m\u001b[1;33m,\u001b[0m \u001b[0mkwargs\u001b[0m\u001b[1;33m)\u001b[0m  \u001b[1;31m# pylint: disable=protected-access\u001b[0m\u001b[1;33m\u001b[0m\u001b[0m\n\u001b[0m\u001b[0;32m   2421\u001b[0m \u001b[1;33m\u001b[0m\u001b[0m\n\u001b[0;32m   2422\u001b[0m   \u001b[1;33m@\u001b[0m\u001b[0mproperty\u001b[0m\u001b[1;33m\u001b[0m\u001b[0m\n",
      "\u001b[1;32mc:\\gajan\\projects\\matroid-challenge\\venv\\lib\\site-packages\\tensorflow\\python\\eager\\function.py\u001b[0m in \u001b[0;36m_filtered_call\u001b[1;34m(self, args, kwargs)\u001b[0m\n\u001b[0;32m   1663\u001b[0m          if isinstance(t, (ops.Tensor,\n\u001b[0;32m   1664\u001b[0m                            resource_variable_ops.BaseResourceVariable))),\n\u001b[1;32m-> 1665\u001b[1;33m         self.captured_inputs)\n\u001b[0m\u001b[0;32m   1666\u001b[0m \u001b[1;33m\u001b[0m\u001b[0m\n\u001b[0;32m   1667\u001b[0m   \u001b[1;32mdef\u001b[0m \u001b[0m_call_flat\u001b[0m\u001b[1;33m(\u001b[0m\u001b[0mself\u001b[0m\u001b[1;33m,\u001b[0m \u001b[0margs\u001b[0m\u001b[1;33m,\u001b[0m \u001b[0mcaptured_inputs\u001b[0m\u001b[1;33m,\u001b[0m \u001b[0mcancellation_manager\u001b[0m\u001b[1;33m=\u001b[0m\u001b[1;32mNone\u001b[0m\u001b[1;33m)\u001b[0m\u001b[1;33m:\u001b[0m\u001b[1;33m\u001b[0m\u001b[0m\n",
      "\u001b[1;32mc:\\gajan\\projects\\matroid-challenge\\venv\\lib\\site-packages\\tensorflow\\python\\eager\\function.py\u001b[0m in \u001b[0;36m_call_flat\u001b[1;34m(self, args, captured_inputs, cancellation_manager)\u001b[0m\n\u001b[0;32m   1744\u001b[0m       \u001b[1;31m# No tape is watching; skip to running the function.\u001b[0m\u001b[1;33m\u001b[0m\u001b[1;33m\u001b[0m\u001b[0m\n\u001b[0;32m   1745\u001b[0m       return self._build_call_outputs(self._inference_function.call(\n\u001b[1;32m-> 1746\u001b[1;33m           ctx, args, cancellation_manager=cancellation_manager))\n\u001b[0m\u001b[0;32m   1747\u001b[0m     forward_backward = self._select_forward_and_backward_functions(\n\u001b[0;32m   1748\u001b[0m         \u001b[0margs\u001b[0m\u001b[1;33m,\u001b[0m\u001b[1;33m\u001b[0m\u001b[0m\n",
      "\u001b[1;32mc:\\gajan\\projects\\matroid-challenge\\venv\\lib\\site-packages\\tensorflow\\python\\eager\\function.py\u001b[0m in \u001b[0;36mcall\u001b[1;34m(self, ctx, args, cancellation_manager)\u001b[0m\n\u001b[0;32m    596\u001b[0m               \u001b[0minputs\u001b[0m\u001b[1;33m=\u001b[0m\u001b[0margs\u001b[0m\u001b[1;33m,\u001b[0m\u001b[1;33m\u001b[0m\u001b[0m\n\u001b[0;32m    597\u001b[0m               \u001b[0mattrs\u001b[0m\u001b[1;33m=\u001b[0m\u001b[0mattrs\u001b[0m\u001b[1;33m,\u001b[0m\u001b[1;33m\u001b[0m\u001b[0m\n\u001b[1;32m--> 598\u001b[1;33m               ctx=ctx)\n\u001b[0m\u001b[0;32m    599\u001b[0m         \u001b[1;32melse\u001b[0m\u001b[1;33m:\u001b[0m\u001b[1;33m\u001b[0m\u001b[0m\n\u001b[0;32m    600\u001b[0m           outputs = execute.execute_with_cancellation(\n",
      "\u001b[1;32mc:\\gajan\\projects\\matroid-challenge\\venv\\lib\\site-packages\\tensorflow\\python\\eager\\execute.py\u001b[0m in \u001b[0;36mquick_execute\u001b[1;34m(op_name, num_outputs, inputs, attrs, ctx, name)\u001b[0m\n\u001b[0;32m     58\u001b[0m     \u001b[0mctx\u001b[0m\u001b[1;33m.\u001b[0m\u001b[0mensure_initialized\u001b[0m\u001b[1;33m(\u001b[0m\u001b[1;33m)\u001b[0m\u001b[1;33m\u001b[0m\u001b[0m\n\u001b[0;32m     59\u001b[0m     tensors = pywrap_tfe.TFE_Py_Execute(ctx._handle, device_name, op_name,\n\u001b[1;32m---> 60\u001b[1;33m                                         inputs, attrs, num_outputs)\n\u001b[0m\u001b[0;32m     61\u001b[0m   \u001b[1;32mexcept\u001b[0m \u001b[0mcore\u001b[0m\u001b[1;33m.\u001b[0m\u001b[0m_NotOkStatusException\u001b[0m \u001b[1;32mas\u001b[0m \u001b[0me\u001b[0m\u001b[1;33m:\u001b[0m\u001b[1;33m\u001b[0m\u001b[0m\n\u001b[0;32m     62\u001b[0m     \u001b[1;32mif\u001b[0m \u001b[0mname\u001b[0m \u001b[1;32mis\u001b[0m \u001b[1;32mnot\u001b[0m \u001b[1;32mNone\u001b[0m\u001b[1;33m:\u001b[0m\u001b[1;33m\u001b[0m\u001b[0m\n",
      "\u001b[1;31mKeyboardInterrupt\u001b[0m: "
     ]
    }
   ],
   "source": [
    "classifier = classier_model(2622, 140)\n",
    "history = classifier.fit(X_train, y_train, batch_size=64, epochs=100, validation_data=(X_test, y_test))"
   ]
  },
  {
   "cell_type": "markdown",
   "metadata": {},
   "source": [
    "Train classifier on each class."
   ]
  },
  {
   "cell_type": "code",
   "execution_count": null,
   "metadata": {},
   "outputs": [],
   "source": [
    "def train():\n",
    "    acc = {}\n",
    "    for i in range(0, 70, 2):\n",
    "        classifier = classier_model(2622, 2)\n",
    "        female_train = np.where(y_train == i)[0]\n",
    "        female_test = np.where(y_test == i)[0]\n",
    "        male_train = np.where(y_train == i+1)[0]\n",
    "        male_test = np.where(y_test == i+1)[0]\n",
    "\n",
    "        X_train_label = np.concatenate((X_train[female_train], X_train[male_train]), axis=0)\n",
    "        y_train_label = np.concatenate((y_train[female_train], y_train[male_train]), axis=0) \n",
    "        X_test_label = np.concatenate((X_test[female_test], X_test[male_test]), axis=0)\n",
    "        y_test_label = np.concatenate((y_test[female_test], y_test[male_test]), axis=0)\n",
    "        print(len(X_train_label))\n",
    "        print(len(y_train_label))\n",
    "        print(len(X_test_label))\n",
    "        print(len(y_test_label))\n",
    "\n",
    "        history = classifier.fit(X_train_label, y_train_label, epochs=100, validation_data=(X_test_label,y_test_label), verbose=0)\n",
    "        train_acc = history.history['accuracy'][-1]\n",
    "        val_acc = history.history['val_accuracy'][-1]\n",
    "        acc[i] = {'train': train_acc, 'val': val_acc}\n",
    "        print(acc[i])\n",
    "    return acc\n",
    "\n",
    "acc = train()"
   ]
  },
  {
   "cell_type": "code",
   "execution_count": null,
   "metadata": {},
   "outputs": [],
   "source": [
    "print(acc)"
   ]
  },
  {
   "cell_type": "markdown",
   "metadata": {},
   "source": [
    "## Results"
   ]
  },
  {
   "cell_type": "code",
   "execution_count": null,
   "metadata": {},
   "outputs": [],
   "source": []
  },
  {
   "cell_type": "code",
   "execution_count": null,
   "metadata": {},
   "outputs": [],
   "source": []
  }
 ],
 "metadata": {
  "kernelspec": {
   "display_name": "Python 3",
   "language": "python",
   "name": "python3"
  },
  "language_info": {
   "codemirror_mode": {
    "name": "ipython",
    "version": 3
   },
   "file_extension": ".py",
   "mimetype": "text/x-python",
   "name": "python",
   "nbconvert_exporter": "python",
   "pygments_lexer": "ipython3",
   "version": "3.6.4"
  }
 },
 "nbformat": 4,
 "nbformat_minor": 4
}
