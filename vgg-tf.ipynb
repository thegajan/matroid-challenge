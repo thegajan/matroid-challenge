{
 "cells": [
  {
   "cell_type": "markdown",
   "metadata": {},
   "source": [
    "# Tensorflow Implementation of VGG Face Detector"
   ]
  },
  {
   "cell_type": "markdown",
   "metadata": {},
   "source": [
    "Objective: Convert the VGG face descriptor model http://www.robots.ox.ac.uk/~vgg/software/vgg_face/ to Tensorflow format.\n",
    "<br>\n",
    "Output: Final Tensorflow classifier model trained on the gender dataset"
   ]
  },
  {
   "cell_type": "code",
   "execution_count": 1,
   "metadata": {},
   "outputs": [
    {
     "name": "stderr",
     "output_type": "stream",
     "text": [
      "Using TensorFlow backend.\n"
     ]
    }
   ],
   "source": [
    "import scipy.io as sio\n",
    "import tensorflow as tf\n",
    "from keras import backend as K\n",
    "from tensorflow.keras.models import Sequential, Model\n",
    "from tensorflow.keras.layers import Reshape, ZeroPadding2D, Convolution2D, MaxPooling2D, Dense, Dropout, Softmax, Flatten, Activation, BatchNormalization"
   ]
  },
  {
   "cell_type": "markdown",
   "metadata": {},
   "source": [
    "## Read .mat file for Model Description"
   ]
  },
  {
   "cell_type": "code",
   "execution_count": 2,
   "metadata": {},
   "outputs": [
    {
     "name": "stdout",
     "output_type": "stream",
     "text": [
      "['conv1_1']\n",
      "['relu1_1']\n",
      "['conv1_2']\n",
      "['relu1_2']\n",
      "['pool1']\n",
      "['conv2_1']\n",
      "['relu2_1']\n",
      "['conv2_2']\n",
      "['relu2_2']\n",
      "['pool2']\n",
      "['conv3_1']\n",
      "['relu3_1']\n",
      "['conv3_2']\n",
      "['relu3_2']\n",
      "['conv3_3']\n",
      "['relu3_3']\n",
      "['pool3']\n",
      "['conv4_1']\n",
      "['relu4_1']\n",
      "['conv4_2']\n",
      "['relu4_2']\n",
      "['conv4_3']\n",
      "['relu4_3']\n",
      "['pool4']\n",
      "['conv5_1']\n",
      "['relu5_1']\n",
      "['conv5_2']\n",
      "['relu5_2']\n",
      "['conv5_3']\n",
      "['relu5_3']\n",
      "['pool5']\n",
      "['fc6']\n",
      "['relu6']\n",
      "['dropout6']\n",
      "['fc7']\n",
      "['relu7']\n",
      "['dropout7']\n",
      "['fc8']\n",
      "['softmax']\n"
     ]
    }
   ],
   "source": [
    "def load_mat():\n",
    "    mat = sio.loadmat('data/vgg_face.mat', struct_as_record=False)\n",
    "    return mat\n",
    "\n",
    "mat = load_mat()\n",
    "net = mat['net'][0][0]\n",
    "mat_model = net.layers\n",
    "mat_model_layers = mat_model[0]\n",
    "num_mat_layers = mat_model_layers.shape[0]\n",
    "for layer in mat_model_layers:\n",
    "    print(layer[0][0].name)"
   ]
  },
  {
   "cell_type": "markdown",
   "metadata": {},
   "source": [
    "## VGG Architecture Implementation\n",
    "We can read the model described in the .mat file and build our tensorflow/keras model using clues. This way we can avoid reproducing it by hand. Additionally, this saves us the trouble of later applying the model weights from the .mat file to our tensorflow/keras model."
   ]
  },
  {
   "cell_type": "code",
   "execution_count": 3,
   "metadata": {},
   "outputs": [],
   "source": [
    "def vgg_tf():\n",
    "    model = Sequential()\n",
    "\n",
    "    for i in range(num_mat_layers):\n",
    "        mat_model_layer = mat_model_layers[i][0][0].name[0]\n",
    "        if mat_model_layer.find(\"conv\") == 0 or mat_model_layer.find(\"fc\") == 0:\n",
    "            weights = mat_model_layers[i][0,0].weights\n",
    "            weights_shape = weights[0][0].shape\n",
    "            filter_x = weights_shape[0]; filter_y = weights_shape[1]\n",
    "            number_of_filters = weights_shape[3]\n",
    "\n",
    "            if mat_model_layer.find(\"conv\") == 0:\n",
    "                print(\"ZeroPadding2D((1,1))\")\n",
    "                if i == 0:\n",
    "                    model.add(ZeroPadding2D((1,1),input_shape=(224,224, 3)))\n",
    "                else:\n",
    "                    model.add(ZeroPadding2D((1,1)))\n",
    "\n",
    "            print(\"Convolution2D(\",number_of_filters,\", (\",filter_x,\", \",filter_y,\"), name='\",mat_model_layer,\"')\")\n",
    "            model.add(Convolution2D(number_of_filters, (filter_x, filter_y), name= mat_model_layer))\n",
    "\n",
    "        else:\n",
    "            if mat_model_layer.find(\"relu\") == 0:\n",
    "                print(\"Activation('relu', name=\",mat_model_layer)\n",
    "                model.add(Activation('relu', name=mat_model_layer))\n",
    "            elif mat_model_layer.find(\"dropout\") == 0:\n",
    "                print(\"Dropout(0.5, name=\",mat_model_layer,\")\")\n",
    "                model.add(Dropout(0.5, name=mat_model_layer))\n",
    "            elif mat_model_layer.find(\"pool\") == 0:\n",
    "                print(\"MaxPooling2D((2,2), strides=(2,2), name=\",mat_model_layer,\")\")\n",
    "                model.add(MaxPooling2D((2,2), strides=(2,2), name=mat_model_layer))\n",
    "            elif mat_model_layer.find(\"softmax\") == 0:\n",
    "                print(\"Activation('softmax', name=\",mat_model_layer,\")\")\n",
    "                model.add(Activation('softmax', name=mat_model_layer))\n",
    "            else:\n",
    "                print(\"-->\",mat_model_layer)\n",
    "    return model"
   ]
  },
  {
   "cell_type": "markdown",
   "metadata": {},
   "source": [
    "Save model to .h5 file for use later."
   ]
  },
  {
   "cell_type": "code",
   "execution_count": 4,
   "metadata": {},
   "outputs": [
    {
     "name": "stdout",
     "output_type": "stream",
     "text": [
      "ZeroPadding2D((1,1))\n",
      "Convolution2D( 64 , ( 3 ,  3 ), name=' conv1_1 ')\n",
      "Activation('relu', name= relu1_1\n",
      "ZeroPadding2D((1,1))\n",
      "Convolution2D( 64 , ( 3 ,  3 ), name=' conv1_2 ')\n",
      "Activation('relu', name= relu1_2\n",
      "MaxPooling2D((2,2), strides=(2,2), name= pool1 )\n",
      "ZeroPadding2D((1,1))\n",
      "Convolution2D( 128 , ( 3 ,  3 ), name=' conv2_1 ')\n",
      "Activation('relu', name= relu2_1\n",
      "ZeroPadding2D((1,1))\n",
      "Convolution2D( 128 , ( 3 ,  3 ), name=' conv2_2 ')\n",
      "Activation('relu', name= relu2_2\n",
      "MaxPooling2D((2,2), strides=(2,2), name= pool2 )\n",
      "ZeroPadding2D((1,1))\n",
      "Convolution2D( 256 , ( 3 ,  3 ), name=' conv3_1 ')\n",
      "Activation('relu', name= relu3_1\n",
      "ZeroPadding2D((1,1))\n",
      "Convolution2D( 256 , ( 3 ,  3 ), name=' conv3_2 ')\n",
      "Activation('relu', name= relu3_2\n",
      "ZeroPadding2D((1,1))\n",
      "Convolution2D( 256 , ( 3 ,  3 ), name=' conv3_3 ')\n",
      "Activation('relu', name= relu3_3\n",
      "MaxPooling2D((2,2), strides=(2,2), name= pool3 )\n",
      "ZeroPadding2D((1,1))\n",
      "Convolution2D( 512 , ( 3 ,  3 ), name=' conv4_1 ')\n",
      "Activation('relu', name= relu4_1\n",
      "ZeroPadding2D((1,1))\n",
      "Convolution2D( 512 , ( 3 ,  3 ), name=' conv4_2 ')\n",
      "Activation('relu', name= relu4_2\n",
      "ZeroPadding2D((1,1))\n",
      "Convolution2D( 512 , ( 3 ,  3 ), name=' conv4_3 ')\n",
      "Activation('relu', name= relu4_3\n",
      "MaxPooling2D((2,2), strides=(2,2), name= pool4 )\n",
      "ZeroPadding2D((1,1))\n",
      "Convolution2D( 512 , ( 3 ,  3 ), name=' conv5_1 ')\n",
      "Activation('relu', name= relu5_1\n",
      "ZeroPadding2D((1,1))\n",
      "Convolution2D( 512 , ( 3 ,  3 ), name=' conv5_2 ')\n",
      "Activation('relu', name= relu5_2\n",
      "ZeroPadding2D((1,1))\n",
      "Convolution2D( 512 , ( 3 ,  3 ), name=' conv5_3 ')\n",
      "Activation('relu', name= relu5_3\n",
      "MaxPooling2D((2,2), strides=(2,2), name= pool5 )\n",
      "Convolution2D( 4096 , ( 7 ,  7 ), name=' fc6 ')\n",
      "Activation('relu', name= relu6\n",
      "Dropout(0.5, name= dropout6 )\n",
      "Convolution2D( 4096 , ( 1 ,  1 ), name=' fc7 ')\n",
      "Activation('relu', name= relu7\n",
      "Dropout(0.5, name= dropout7 )\n",
      "Convolution2D( 2622 , ( 1 ,  1 ), name=' fc8 ')\n",
      "Activation('softmax', name= softmax )\n"
     ]
    }
   ],
   "source": [
    "model = vgg_tf()\n",
    "model.save('data/vgg_face.h5')"
   ]
  },
  {
   "cell_type": "markdown",
   "metadata": {},
   "source": [
    "## Construct Classifier "
   ]
  },
  {
   "cell_type": "code",
   "execution_count": 5,
   "metadata": {},
   "outputs": [],
   "source": [
    "def classier_model(input_dim, num_classes):\n",
    "    classifier = Sequential()\n",
    "    classifier.add(Dense(100, input_dim=input_dim)) #input dim\n",
    "    classifier.add(BatchNormalization())\n",
    "    classifier.add(Activation('tanh'))\n",
    "    classifier.add(Dropout(0.3))\n",
    "    classifier.add(Dense(20))\n",
    "    classifier.add(BatchNormalization())\n",
    "    classifier.add(Activation('tanh'))\n",
    "    classifier.add(Dropout(0.1))\n",
    "    classifier.add(Dense(num_classes))\n",
    "    classifier.add(Activation('softmax'))\n",
    "    classifier.compile(loss=tf.keras.losses.SparseCategoricalCrossentropy(), optimizer='adam', metrics=['accuracy'])\n",
    "    return classifier"
   ]
  },
  {
   "cell_type": "code",
   "execution_count": 6,
   "metadata": {},
   "outputs": [],
   "source": [
    "classifier = classier_model(128, 2)"
   ]
  },
  {
   "cell_type": "markdown",
   "metadata": {},
   "source": [
    "## Load Images"
   ]
  },
  {
   "cell_type": "code",
   "execution_count": 10,
   "metadata": {},
   "outputs": [],
   "source": [
    "from tensorflow.keras.preprocessing.image import load_img, img_to_array\n",
    "from tensorflow.keras.applications.imagenet_utils import preprocess_input\n",
    "from PIL import Image\n",
    "import numpy as np\n",
    "from tqdm import tqdm\n",
    "import os"
   ]
  },
  {
   "cell_type": "code",
   "execution_count": 25,
   "metadata": {},
   "outputs": [],
   "source": [
    "def pad(img):\n",
    "    ht, wd, cc= img.shape\n",
    "    ww = 224\n",
    "    hh = 224\n",
    "    color = (0,0,0)\n",
    "    result = np.full((hh,ww,cc), color, dtype=np.uint8)\n",
    "    xx = (ww - wd) // 2\n",
    "    yy = (hh - ht) // 2\n",
    "    result[yy:yy+ht, xx:xx+wd] = img\n",
    "    return result\n",
    "\n",
    "def load_img_file(path, model):\n",
    "    img = Image.open(path)\n",
    "#     img = load_img(path)\n",
    "    x = img_to_array(img) \n",
    "    x = pad(x)\n",
    "    x = np.expand_dims(x, axis=0)\n",
    "    x = preprocess_input(x)\n",
    "    x = model(x)\n",
    "    return x\n",
    "\n",
    "def load_data(path, model):\n",
    "    x = []\n",
    "    y = []\n",
    "    labels = {}\n",
    "    folders = os.listdir(path)\n",
    "    for i in tqdm(range(len(folders))):\n",
    "        labels[i] = folders[i]\n",
    "        label_path = path + '/' + folders[i]\n",
    "        images = os.listdir(label_path)\n",
    "        for image in images:\n",
    "            img = load_img_file(label_path + '/' + image, model)\n",
    "            x.append(np.squeeze(K.eval(img)).tolist())\n",
    "            y.append(i)\n",
    "    return x, y, labels"
   ]
  },
  {
   "cell_type": "code",
   "execution_count": 26,
   "metadata": {},
   "outputs": [
    {
     "name": "stderr",
     "output_type": "stream",
     "text": [
      "100%|████████████████████████████████████████████████████████████████████████████████| 140/140 [20:51<00:00,  8.94s/it]"
     ]
    },
    {
     "name": "stdout",
     "output_type": "stream",
     "text": [
      "{0: '01_F', 1: '01_M', 2: '02_F', 3: '02_M', 4: '03_F', 5: '03_M', 6: '04_F', 7: '04_M', 8: '05_F', 9: '05_M', 10: '06_F', 11: '06_M', 12: '07_F', 13: '07_M', 14: '08_F', 15: '08_M', 16: '09_F', 17: '09_M', 18: '10_F', 19: '10_M', 20: '11_F', 21: '11_M', 22: '12_F', 23: '12_M', 24: '13_F', 25: '13_M', 26: '14_F', 27: '14_M', 28: '15_F', 29: '15_M', 30: '16_F', 31: '16_M', 32: '17_F', 33: '17_M', 34: '18_F', 35: '18_M', 36: '19_F', 37: '19_M', 38: '20_F', 39: '20_M', 40: '21_F', 41: '21_M', 42: '22_F', 43: '22_M', 44: '23_F', 45: '23_M', 46: '24_F', 47: '24_M', 48: '25_F', 49: '25_M', 50: '26_F', 51: '26_M', 52: '27_F', 53: '27_M', 54: '28_F', 55: '28_M', 56: '29_F', 57: '29_M', 58: '30_F', 59: '30_M', 60: '31_F', 61: '31_M', 62: '32_F', 63: '32_M', 64: '33_F', 65: '33_M', 66: '34_F', 67: '34_M', 68: '35_F', 69: '35_M', 70: '36_F', 71: '36_M', 72: '37_F', 73: '37_M', 74: '38_F', 75: '38_M', 76: '39_F', 77: '39_M', 78: '40_F', 79: '40_M', 80: '41_F', 81: '41_M', 82: '42_F', 83: '42_M', 84: '43_F', 85: '43_M', 86: '44_F', 87: '44_M', 88: '45_F', 89: '45_M', 90: '46_F', 91: '46_M', 92: '47_F', 93: '47_M', 94: '48_F', 95: '48_M', 96: '49_F', 97: '49_M', 98: '50_F', 99: '50_M', 100: '51_F', 101: '51_M', 102: '52_F', 103: '52_M', 104: '53_F', 105: '53_M', 106: '54_F', 107: '54_M', 108: '55_F', 109: '55_M', 110: '56_F', 111: '56_M', 112: '57_F', 113: '57_M', 114: '58_F', 115: '58_M', 116: '59_F', 117: '59_M', 118: '60_F', 119: '60_M', 120: '61_F', 121: '61_M', 122: '62_F', 123: '62_M', 124: '63_F', 125: '63_M', 126: '64_F', 127: '64_M', 128: '65_F', 129: '65_M', 130: '66_F', 131: '66_M', 132: '67_F', 133: '67_M', 134: '68_F', 135: '68_M', 136: '69_F', 137: '69_M', 138: '70_F', 139: '70_M'}\n"
     ]
    },
    {
     "name": "stderr",
     "output_type": "stream",
     "text": [
      "\n"
     ]
    }
   ],
   "source": [
    "X_train, y_train, labels = load_data('data/combined/aligned', model)\n",
    "np.save('data/X_train.npy', X_train)\n",
    "np.save('data/y_train.npy', y_train)\n",
    "np.save('data/labels.npy', labels)"
   ]
  },
  {
   "cell_type": "code",
   "execution_count": 27,
   "metadata": {},
   "outputs": [
    {
     "name": "stderr",
     "output_type": "stream",
     "text": [
      " 80%|████████████████████████████████████████████████████████████████                | 112/140 [02:34<00:38,  1.38s/it]\n"
     ]
    },
    {
     "ename": "KeyboardInterrupt",
     "evalue": "",
     "output_type": "error",
     "traceback": [
      "\u001b[1;31m---------------------------------------------------------------------------\u001b[0m",
      "\u001b[1;31mKeyboardInterrupt\u001b[0m                         Traceback (most recent call last)",
      "\u001b[1;32m<ipython-input-27-4782fcb0f8e1>\u001b[0m in \u001b[0;36m<module>\u001b[1;34m\u001b[0m\n\u001b[1;32m----> 1\u001b[1;33m \u001b[0mX_test\u001b[0m\u001b[1;33m,\u001b[0m \u001b[0my_test\u001b[0m\u001b[1;33m,\u001b[0m \u001b[0mlabels\u001b[0m \u001b[1;33m=\u001b[0m \u001b[0mload_data\u001b[0m\u001b[1;33m(\u001b[0m\u001b[1;34m'data/combined/valid'\u001b[0m\u001b[1;33m,\u001b[0m \u001b[0mmodel\u001b[0m\u001b[1;33m)\u001b[0m\u001b[1;33m\u001b[0m\u001b[0m\n\u001b[0m",
      "\u001b[1;32m<ipython-input-25-e86fc21d919d>\u001b[0m in \u001b[0;36mload_data\u001b[1;34m(path, model)\u001b[0m\n\u001b[0;32m     30\u001b[0m         \u001b[0mimages\u001b[0m \u001b[1;33m=\u001b[0m \u001b[0mos\u001b[0m\u001b[1;33m.\u001b[0m\u001b[0mlistdir\u001b[0m\u001b[1;33m(\u001b[0m\u001b[0mlabel_path\u001b[0m\u001b[1;33m)\u001b[0m\u001b[1;33m\u001b[0m\u001b[0m\n\u001b[0;32m     31\u001b[0m         \u001b[1;32mfor\u001b[0m \u001b[0mimage\u001b[0m \u001b[1;32min\u001b[0m \u001b[0mimages\u001b[0m\u001b[1;33m:\u001b[0m\u001b[1;33m\u001b[0m\u001b[0m\n\u001b[1;32m---> 32\u001b[1;33m             \u001b[0mimg\u001b[0m \u001b[1;33m=\u001b[0m \u001b[0mload_img_file\u001b[0m\u001b[1;33m(\u001b[0m\u001b[0mlabel_path\u001b[0m \u001b[1;33m+\u001b[0m \u001b[1;34m'/'\u001b[0m \u001b[1;33m+\u001b[0m \u001b[0mimage\u001b[0m\u001b[1;33m,\u001b[0m \u001b[0mmodel\u001b[0m\u001b[1;33m)\u001b[0m\u001b[1;33m\u001b[0m\u001b[0m\n\u001b[0m\u001b[0;32m     33\u001b[0m             \u001b[0mx\u001b[0m\u001b[1;33m.\u001b[0m\u001b[0mappend\u001b[0m\u001b[1;33m(\u001b[0m\u001b[0mnp\u001b[0m\u001b[1;33m.\u001b[0m\u001b[0msqueeze\u001b[0m\u001b[1;33m(\u001b[0m\u001b[0mK\u001b[0m\u001b[1;33m.\u001b[0m\u001b[0meval\u001b[0m\u001b[1;33m(\u001b[0m\u001b[0mimg\u001b[0m\u001b[1;33m)\u001b[0m\u001b[1;33m)\u001b[0m\u001b[1;33m.\u001b[0m\u001b[0mtolist\u001b[0m\u001b[1;33m(\u001b[0m\u001b[1;33m)\u001b[0m\u001b[1;33m)\u001b[0m\u001b[1;33m\u001b[0m\u001b[0m\n\u001b[0;32m     34\u001b[0m             \u001b[0my\u001b[0m\u001b[1;33m.\u001b[0m\u001b[0mappend\u001b[0m\u001b[1;33m(\u001b[0m\u001b[0mi\u001b[0m\u001b[1;33m)\u001b[0m\u001b[1;33m\u001b[0m\u001b[0m\n",
      "\u001b[1;32m<ipython-input-25-e86fc21d919d>\u001b[0m in \u001b[0;36mload_img_file\u001b[1;34m(path, model)\u001b[0m\n\u001b[0;32m     17\u001b[0m     \u001b[0mx\u001b[0m \u001b[1;33m=\u001b[0m \u001b[0mnp\u001b[0m\u001b[1;33m.\u001b[0m\u001b[0mexpand_dims\u001b[0m\u001b[1;33m(\u001b[0m\u001b[0mx\u001b[0m\u001b[1;33m,\u001b[0m \u001b[0maxis\u001b[0m\u001b[1;33m=\u001b[0m\u001b[1;36m0\u001b[0m\u001b[1;33m)\u001b[0m\u001b[1;33m\u001b[0m\u001b[0m\n\u001b[0;32m     18\u001b[0m     \u001b[0mx\u001b[0m \u001b[1;33m=\u001b[0m \u001b[0mpreprocess_input\u001b[0m\u001b[1;33m(\u001b[0m\u001b[0mx\u001b[0m\u001b[1;33m)\u001b[0m\u001b[1;33m\u001b[0m\u001b[0m\n\u001b[1;32m---> 19\u001b[1;33m     \u001b[0mx\u001b[0m \u001b[1;33m=\u001b[0m \u001b[0mmodel\u001b[0m\u001b[1;33m(\u001b[0m\u001b[0mx\u001b[0m\u001b[1;33m)\u001b[0m\u001b[1;33m\u001b[0m\u001b[0m\n\u001b[0m\u001b[0;32m     20\u001b[0m     \u001b[1;32mreturn\u001b[0m \u001b[0mx\u001b[0m\u001b[1;33m\u001b[0m\u001b[0m\n\u001b[0;32m     21\u001b[0m \u001b[1;33m\u001b[0m\u001b[0m\n",
      "\u001b[1;32mc:\\gajan\\projects\\matroid-challenge\\venv\\lib\\site-packages\\tensorflow\\python\\keras\\engine\\base_layer.py\u001b[0m in \u001b[0;36m__call__\u001b[1;34m(self, *args, **kwargs)\u001b[0m\n\u001b[0;32m    966\u001b[0m           with base_layer_utils.autocast_context_manager(\n\u001b[0;32m    967\u001b[0m               self._compute_dtype):\n\u001b[1;32m--> 968\u001b[1;33m             \u001b[0moutputs\u001b[0m \u001b[1;33m=\u001b[0m \u001b[0mself\u001b[0m\u001b[1;33m.\u001b[0m\u001b[0mcall\u001b[0m\u001b[1;33m(\u001b[0m\u001b[0mcast_inputs\u001b[0m\u001b[1;33m,\u001b[0m \u001b[1;33m*\u001b[0m\u001b[0margs\u001b[0m\u001b[1;33m,\u001b[0m \u001b[1;33m**\u001b[0m\u001b[0mkwargs\u001b[0m\u001b[1;33m)\u001b[0m\u001b[1;33m\u001b[0m\u001b[0m\n\u001b[0m\u001b[0;32m    969\u001b[0m           \u001b[0mself\u001b[0m\u001b[1;33m.\u001b[0m\u001b[0m_handle_activity_regularization\u001b[0m\u001b[1;33m(\u001b[0m\u001b[0minputs\u001b[0m\u001b[1;33m,\u001b[0m \u001b[0moutputs\u001b[0m\u001b[1;33m)\u001b[0m\u001b[1;33m\u001b[0m\u001b[0m\n\u001b[0;32m    970\u001b[0m           \u001b[0mself\u001b[0m\u001b[1;33m.\u001b[0m\u001b[0m_set_mask_metadata\u001b[0m\u001b[1;33m(\u001b[0m\u001b[0minputs\u001b[0m\u001b[1;33m,\u001b[0m \u001b[0moutputs\u001b[0m\u001b[1;33m,\u001b[0m \u001b[0minput_masks\u001b[0m\u001b[1;33m)\u001b[0m\u001b[1;33m\u001b[0m\u001b[0m\n",
      "\u001b[1;32mc:\\gajan\\projects\\matroid-challenge\\venv\\lib\\site-packages\\tensorflow\\python\\keras\\engine\\sequential.py\u001b[0m in \u001b[0;36mcall\u001b[1;34m(self, inputs, training, mask)\u001b[0m\n\u001b[0;32m    275\u001b[0m       \u001b[1;32mif\u001b[0m \u001b[1;32mnot\u001b[0m \u001b[0mself\u001b[0m\u001b[1;33m.\u001b[0m\u001b[0mbuilt\u001b[0m\u001b[1;33m:\u001b[0m\u001b[1;33m\u001b[0m\u001b[0m\n\u001b[0;32m    276\u001b[0m         \u001b[0mself\u001b[0m\u001b[1;33m.\u001b[0m\u001b[0m_init_graph_network\u001b[0m\u001b[1;33m(\u001b[0m\u001b[0mself\u001b[0m\u001b[1;33m.\u001b[0m\u001b[0minputs\u001b[0m\u001b[1;33m,\u001b[0m \u001b[0mself\u001b[0m\u001b[1;33m.\u001b[0m\u001b[0moutputs\u001b[0m\u001b[1;33m,\u001b[0m \u001b[0mname\u001b[0m\u001b[1;33m=\u001b[0m\u001b[0mself\u001b[0m\u001b[1;33m.\u001b[0m\u001b[0mname\u001b[0m\u001b[1;33m)\u001b[0m\u001b[1;33m\u001b[0m\u001b[0m\n\u001b[1;32m--> 277\u001b[1;33m       \u001b[1;32mreturn\u001b[0m \u001b[0msuper\u001b[0m\u001b[1;33m(\u001b[0m\u001b[0mSequential\u001b[0m\u001b[1;33m,\u001b[0m \u001b[0mself\u001b[0m\u001b[1;33m)\u001b[0m\u001b[1;33m.\u001b[0m\u001b[0mcall\u001b[0m\u001b[1;33m(\u001b[0m\u001b[0minputs\u001b[0m\u001b[1;33m,\u001b[0m \u001b[0mtraining\u001b[0m\u001b[1;33m=\u001b[0m\u001b[0mtraining\u001b[0m\u001b[1;33m,\u001b[0m \u001b[0mmask\u001b[0m\u001b[1;33m=\u001b[0m\u001b[0mmask\u001b[0m\u001b[1;33m)\u001b[0m\u001b[1;33m\u001b[0m\u001b[0m\n\u001b[0m\u001b[0;32m    278\u001b[0m \u001b[1;33m\u001b[0m\u001b[0m\n\u001b[0;32m    279\u001b[0m     \u001b[0moutputs\u001b[0m \u001b[1;33m=\u001b[0m \u001b[0minputs\u001b[0m  \u001b[1;31m# handle the corner case where self.layers is empty\u001b[0m\u001b[1;33m\u001b[0m\u001b[0m\n",
      "\u001b[1;32mc:\\gajan\\projects\\matroid-challenge\\venv\\lib\\site-packages\\tensorflow\\python\\keras\\engine\\network.py\u001b[0m in \u001b[0;36mcall\u001b[1;34m(self, inputs, training, mask)\u001b[0m\n\u001b[0;32m    717\u001b[0m     return self._run_internal_graph(\n\u001b[0;32m    718\u001b[0m         \u001b[0minputs\u001b[0m\u001b[1;33m,\u001b[0m \u001b[0mtraining\u001b[0m\u001b[1;33m=\u001b[0m\u001b[0mtraining\u001b[0m\u001b[1;33m,\u001b[0m \u001b[0mmask\u001b[0m\u001b[1;33m=\u001b[0m\u001b[0mmask\u001b[0m\u001b[1;33m,\u001b[0m\u001b[1;33m\u001b[0m\u001b[0m\n\u001b[1;32m--> 719\u001b[1;33m         convert_kwargs_to_constants=base_layer_utils.call_context().saving)\n\u001b[0m\u001b[0;32m    720\u001b[0m \u001b[1;33m\u001b[0m\u001b[0m\n\u001b[0;32m    721\u001b[0m   \u001b[1;32mdef\u001b[0m \u001b[0mcompute_output_shape\u001b[0m\u001b[1;33m(\u001b[0m\u001b[0mself\u001b[0m\u001b[1;33m,\u001b[0m \u001b[0minput_shape\u001b[0m\u001b[1;33m)\u001b[0m\u001b[1;33m:\u001b[0m\u001b[1;33m\u001b[0m\u001b[0m\n",
      "\u001b[1;32mc:\\gajan\\projects\\matroid-challenge\\venv\\lib\\site-packages\\tensorflow\\python\\keras\\engine\\network.py\u001b[0m in \u001b[0;36m_run_internal_graph\u001b[1;34m(self, inputs, training, mask, convert_kwargs_to_constants)\u001b[0m\n\u001b[0;32m    886\u001b[0m \u001b[1;33m\u001b[0m\u001b[0m\n\u001b[0;32m    887\u001b[0m           \u001b[1;31m# Compute outputs.\u001b[0m\u001b[1;33m\u001b[0m\u001b[1;33m\u001b[0m\u001b[0m\n\u001b[1;32m--> 888\u001b[1;33m           \u001b[0moutput_tensors\u001b[0m \u001b[1;33m=\u001b[0m \u001b[0mlayer\u001b[0m\u001b[1;33m(\u001b[0m\u001b[0mcomputed_tensors\u001b[0m\u001b[1;33m,\u001b[0m \u001b[1;33m**\u001b[0m\u001b[0mkwargs\u001b[0m\u001b[1;33m)\u001b[0m\u001b[1;33m\u001b[0m\u001b[0m\n\u001b[0m\u001b[0;32m    889\u001b[0m \u001b[1;33m\u001b[0m\u001b[0m\n\u001b[0;32m    890\u001b[0m           \u001b[1;31m# Update tensor_dict.\u001b[0m\u001b[1;33m\u001b[0m\u001b[1;33m\u001b[0m\u001b[0m\n",
      "\u001b[1;32mc:\\gajan\\projects\\matroid-challenge\\venv\\lib\\site-packages\\tensorflow\\python\\keras\\engine\\base_layer.py\u001b[0m in \u001b[0;36m__call__\u001b[1;34m(self, *args, **kwargs)\u001b[0m\n\u001b[0;32m    966\u001b[0m           with base_layer_utils.autocast_context_manager(\n\u001b[0;32m    967\u001b[0m               self._compute_dtype):\n\u001b[1;32m--> 968\u001b[1;33m             \u001b[0moutputs\u001b[0m \u001b[1;33m=\u001b[0m \u001b[0mself\u001b[0m\u001b[1;33m.\u001b[0m\u001b[0mcall\u001b[0m\u001b[1;33m(\u001b[0m\u001b[0mcast_inputs\u001b[0m\u001b[1;33m,\u001b[0m \u001b[1;33m*\u001b[0m\u001b[0margs\u001b[0m\u001b[1;33m,\u001b[0m \u001b[1;33m**\u001b[0m\u001b[0mkwargs\u001b[0m\u001b[1;33m)\u001b[0m\u001b[1;33m\u001b[0m\u001b[0m\n\u001b[0m\u001b[0;32m    969\u001b[0m           \u001b[0mself\u001b[0m\u001b[1;33m.\u001b[0m\u001b[0m_handle_activity_regularization\u001b[0m\u001b[1;33m(\u001b[0m\u001b[0minputs\u001b[0m\u001b[1;33m,\u001b[0m \u001b[0moutputs\u001b[0m\u001b[1;33m)\u001b[0m\u001b[1;33m\u001b[0m\u001b[0m\n\u001b[0;32m    970\u001b[0m           \u001b[0mself\u001b[0m\u001b[1;33m.\u001b[0m\u001b[0m_set_mask_metadata\u001b[0m\u001b[1;33m(\u001b[0m\u001b[0minputs\u001b[0m\u001b[1;33m,\u001b[0m \u001b[0moutputs\u001b[0m\u001b[1;33m,\u001b[0m \u001b[0minput_masks\u001b[0m\u001b[1;33m)\u001b[0m\u001b[1;33m\u001b[0m\u001b[0m\n",
      "\u001b[1;32mc:\\gajan\\projects\\matroid-challenge\\venv\\lib\\site-packages\\tensorflow\\python\\keras\\layers\\core.py\u001b[0m in \u001b[0;36mcall\u001b[1;34m(self, inputs)\u001b[0m\n\u001b[0;32m    418\u001b[0m \u001b[1;33m\u001b[0m\u001b[0m\n\u001b[0;32m    419\u001b[0m   \u001b[1;32mdef\u001b[0m \u001b[0mcall\u001b[0m\u001b[1;33m(\u001b[0m\u001b[0mself\u001b[0m\u001b[1;33m,\u001b[0m \u001b[0minputs\u001b[0m\u001b[1;33m)\u001b[0m\u001b[1;33m:\u001b[0m\u001b[1;33m\u001b[0m\u001b[0m\n\u001b[1;32m--> 420\u001b[1;33m     \u001b[1;32mreturn\u001b[0m \u001b[0mself\u001b[0m\u001b[1;33m.\u001b[0m\u001b[0mactivation\u001b[0m\u001b[1;33m(\u001b[0m\u001b[0minputs\u001b[0m\u001b[1;33m)\u001b[0m\u001b[1;33m\u001b[0m\u001b[0m\n\u001b[0m\u001b[0;32m    421\u001b[0m \u001b[1;33m\u001b[0m\u001b[0m\n\u001b[0;32m    422\u001b[0m   \u001b[1;32mdef\u001b[0m \u001b[0mcompute_output_shape\u001b[0m\u001b[1;33m(\u001b[0m\u001b[0mself\u001b[0m\u001b[1;33m,\u001b[0m \u001b[0minput_shape\u001b[0m\u001b[1;33m)\u001b[0m\u001b[1;33m:\u001b[0m\u001b[1;33m\u001b[0m\u001b[0m\n",
      "\u001b[1;32mc:\\gajan\\projects\\matroid-challenge\\venv\\lib\\site-packages\\tensorflow\\python\\keras\\activations.py\u001b[0m in \u001b[0;36mrelu\u001b[1;34m(x, alpha, max_value, threshold)\u001b[0m\n\u001b[0;32m    233\u001b[0m       \u001b[0mTensor\u001b[0m \u001b[0mwill\u001b[0m \u001b[0mbe\u001b[0m \u001b[0mof\u001b[0m \u001b[0mthe\u001b[0m \u001b[0msame\u001b[0m \u001b[0mshape\u001b[0m \u001b[1;32mand\u001b[0m \u001b[0mdtype\u001b[0m \u001b[0mof\u001b[0m \u001b[0minput\u001b[0m\u001b[0;31m \u001b[0m\u001b[0;31m`\u001b[0m\u001b[0mx\u001b[0m\u001b[0;31m`\u001b[0m\u001b[1;33m.\u001b[0m\u001b[1;33m\u001b[0m\u001b[0m\n\u001b[0;32m    234\u001b[0m   \"\"\"\n\u001b[1;32m--> 235\u001b[1;33m   \u001b[1;32mreturn\u001b[0m \u001b[0mK\u001b[0m\u001b[1;33m.\u001b[0m\u001b[0mrelu\u001b[0m\u001b[1;33m(\u001b[0m\u001b[0mx\u001b[0m\u001b[1;33m,\u001b[0m \u001b[0malpha\u001b[0m\u001b[1;33m=\u001b[0m\u001b[0malpha\u001b[0m\u001b[1;33m,\u001b[0m \u001b[0mmax_value\u001b[0m\u001b[1;33m=\u001b[0m\u001b[0mmax_value\u001b[0m\u001b[1;33m,\u001b[0m \u001b[0mthreshold\u001b[0m\u001b[1;33m=\u001b[0m\u001b[0mthreshold\u001b[0m\u001b[1;33m)\u001b[0m\u001b[1;33m\u001b[0m\u001b[0m\n\u001b[0m\u001b[0;32m    236\u001b[0m \u001b[1;33m\u001b[0m\u001b[0m\n\u001b[0;32m    237\u001b[0m \u001b[1;33m\u001b[0m\u001b[0m\n",
      "\u001b[1;32mc:\\gajan\\projects\\matroid-challenge\\venv\\lib\\site-packages\\tensorflow\\python\\keras\\backend.py\u001b[0m in \u001b[0;36mrelu\u001b[1;34m(x, alpha, max_value, threshold)\u001b[0m\n\u001b[0;32m   4438\u001b[0m     \u001b[0mclip_max\u001b[0m \u001b[1;33m=\u001b[0m \u001b[1;32mFalse\u001b[0m\u001b[1;33m\u001b[0m\u001b[0m\n\u001b[0;32m   4439\u001b[0m   \u001b[1;32melse\u001b[0m\u001b[1;33m:\u001b[0m\u001b[1;33m\u001b[0m\u001b[0m\n\u001b[1;32m-> 4440\u001b[1;33m     \u001b[0mx\u001b[0m \u001b[1;33m=\u001b[0m \u001b[0mnn\u001b[0m\u001b[1;33m.\u001b[0m\u001b[0mrelu\u001b[0m\u001b[1;33m(\u001b[0m\u001b[0mx\u001b[0m\u001b[1;33m)\u001b[0m\u001b[1;33m\u001b[0m\u001b[0m\n\u001b[0m\u001b[0;32m   4441\u001b[0m \u001b[1;33m\u001b[0m\u001b[0m\n\u001b[0;32m   4442\u001b[0m   \u001b[1;32mif\u001b[0m \u001b[0mclip_max\u001b[0m\u001b[1;33m:\u001b[0m\u001b[1;33m\u001b[0m\u001b[0m\n",
      "\u001b[1;32mc:\\gajan\\projects\\matroid-challenge\\venv\\lib\\site-packages\\tensorflow\\python\\ops\\gen_nn_ops.py\u001b[0m in \u001b[0;36mrelu\u001b[1;34m(features, name)\u001b[0m\n\u001b[0;32m  10349\u001b[0m       _result = pywrap_tfe.TFE_Py_FastPathExecute(\n\u001b[0;32m  10350\u001b[0m         \u001b[0m_ctx\u001b[0m\u001b[1;33m.\u001b[0m\u001b[0m_context_handle\u001b[0m\u001b[1;33m,\u001b[0m \u001b[0mtld\u001b[0m\u001b[1;33m.\u001b[0m\u001b[0mdevice_name\u001b[0m\u001b[1;33m,\u001b[0m \u001b[1;34m\"Relu\"\u001b[0m\u001b[1;33m,\u001b[0m \u001b[0mname\u001b[0m\u001b[1;33m,\u001b[0m \u001b[0mtld\u001b[0m\u001b[1;33m.\u001b[0m\u001b[0mop_callbacks\u001b[0m\u001b[1;33m,\u001b[0m\u001b[1;33m\u001b[0m\u001b[0m\n\u001b[1;32m> 10351\u001b[1;33m         features)\n\u001b[0m\u001b[0;32m  10352\u001b[0m       \u001b[1;32mreturn\u001b[0m \u001b[0m_result\u001b[0m\u001b[1;33m\u001b[0m\u001b[0m\n\u001b[0;32m  10353\u001b[0m     \u001b[1;32mexcept\u001b[0m \u001b[0m_core\u001b[0m\u001b[1;33m.\u001b[0m\u001b[0m_FallbackException\u001b[0m\u001b[1;33m:\u001b[0m\u001b[1;33m\u001b[0m\u001b[0m\n",
      "\u001b[1;31mKeyboardInterrupt\u001b[0m: "
     ]
    }
   ],
   "source": [
    "X_test, y_test, labels = load_data('data/combined/valid', model)\n",
    "np.save('data/X_test.npy', X_test)\n",
    "np.save('data/y_test.npy', y_test)"
   ]
  },
  {
   "cell_type": "markdown",
   "metadata": {},
   "source": [
    "## Train Classifier"
   ]
  },
  {
   "cell_type": "code",
   "execution_count": null,
   "metadata": {},
   "outputs": [],
   "source": [
    "def train()"
   ]
  },
  {
   "cell_type": "markdown",
   "metadata": {},
   "source": [
    "## Test Model"
   ]
  },
  {
   "cell_type": "code",
   "execution_count": null,
   "metadata": {},
   "outputs": [],
   "source": []
  },
  {
   "cell_type": "markdown",
   "metadata": {},
   "source": [
    "## Results"
   ]
  },
  {
   "cell_type": "code",
   "execution_count": null,
   "metadata": {},
   "outputs": [],
   "source": []
  }
 ],
 "metadata": {
  "kernelspec": {
   "display_name": "Python 3",
   "language": "python",
   "name": "python3"
  },
  "language_info": {
   "codemirror_mode": {
    "name": "ipython",
    "version": 3
   },
   "file_extension": ".py",
   "mimetype": "text/x-python",
   "name": "python",
   "nbconvert_exporter": "python",
   "pygments_lexer": "ipython3",
   "version": "3.6.4"
  }
 },
 "nbformat": 4,
 "nbformat_minor": 4
}
