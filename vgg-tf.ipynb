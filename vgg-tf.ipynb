{
 "cells": [
  {
   "cell_type": "markdown",
   "metadata": {},
   "source": [
    "# Tensorflow Implementation of VGG Face Detector"
   ]
  },
  {
   "cell_type": "markdown",
   "metadata": {},
   "source": [
    "Objective: Convert the VGG face descriptor model http://www.robots.ox.ac.uk/~vgg/software/vgg_face/ to Tensorflow format.\n",
    "<br>\n",
    "Output: Final Tensorflow classifier model trained on the gender dataset"
   ]
  },
  {
   "cell_type": "code",
   "execution_count": 33,
   "metadata": {},
   "outputs": [],
   "source": [
    "import scipy.io as sio\n",
    "import tensorflow as tf\n",
    "from tensorflow.keras.models import Sequential, Model\n",
    "from tensorflow.keras.layers import ZeroPadding2D, Convolution2D, MaxPooling2D, Dense, Dropout, Softmax, Flatten, Activation, BatchNormalization"
   ]
  },
  {
   "cell_type": "markdown",
   "metadata": {},
   "source": [
    "## Read .mat file for Model Description"
   ]
  },
  {
   "cell_type": "code",
   "execution_count": 34,
   "metadata": {},
   "outputs": [
    {
     "name": "stdout",
     "output_type": "stream",
     "text": [
      "['conv1_1']\n",
      "['relu1_1']\n",
      "['conv1_2']\n",
      "['relu1_2']\n",
      "['pool1']\n",
      "['conv2_1']\n",
      "['relu2_1']\n",
      "['conv2_2']\n",
      "['relu2_2']\n",
      "['pool2']\n",
      "['conv3_1']\n",
      "['relu3_1']\n",
      "['conv3_2']\n",
      "['relu3_2']\n",
      "['conv3_3']\n",
      "['relu3_3']\n",
      "['pool3']\n",
      "['conv4_1']\n",
      "['relu4_1']\n",
      "['conv4_2']\n",
      "['relu4_2']\n",
      "['conv4_3']\n",
      "['relu4_3']\n",
      "['pool4']\n",
      "['conv5_1']\n",
      "['relu5_1']\n",
      "['conv5_2']\n",
      "['relu5_2']\n",
      "['conv5_3']\n",
      "['relu5_3']\n",
      "['pool5']\n",
      "['fc6']\n",
      "['relu6']\n",
      "['dropout6']\n",
      "['fc7']\n",
      "['relu7']\n",
      "['dropout7']\n",
      "['fc8']\n",
      "['softmax']\n"
     ]
    }
   ],
   "source": [
    "def load_mat():\n",
    "    mat = sio.loadmat('data/vgg_face.mat', struct_as_record=False)\n",
    "    \n",
    "net = mat['net'][0][0]\n",
    "mat_model = net.layers\n",
    "mat_model_layers = mat_model[0]\n",
    "num_mat_layers = mat_model_layers.shape[0]\n",
    "for layer in mat_model_layers:\n",
    "    print(layer[0][0].name)"
   ]
  },
  {
   "cell_type": "markdown",
   "metadata": {},
   "source": [
    "## VGG Architecture Implementation\n",
    "We can read the model described in the .mat file and build our tensorflow/keras model using clues. This way we can avoid reproducing it by hand. Additionally, this saves us the trouble of later applying the model weights from the .mat file to our tensorflow/keras model."
   ]
  },
  {
   "cell_type": "code",
   "execution_count": 41,
   "metadata": {},
   "outputs": [],
   "source": [
    "def vgg_tf():\n",
    "    model = Sequential()\n",
    "\n",
    "    for i in range(num_mat_layers):\n",
    "        mat_model_layer = mat_model_layers[i][0][0].name[0]\n",
    "        if mat_model_layer.find(\"conv\") == 0 or mat_model_layer.find(\"fc\") == 0:\n",
    "            weights = mat_model_layers[i][0,0].weights\n",
    "            weights_shape = weights[0][0].shape\n",
    "            filter_x = weights_shape[0]; filter_y = weights_shape[1]\n",
    "            number_of_filters = weights_shape[3]\n",
    "\n",
    "            if mat_model_layer.find(\"conv\") == 0:\n",
    "                print(\"ZeroPadding2D((1,1))\")\n",
    "                if i == 0:\n",
    "                    model.add(ZeroPadding2D((1,1),input_shape=(224,224, 3)))\n",
    "                else:\n",
    "                    model.add(ZeroPadding2D((1,1)))\n",
    "\n",
    "            print(\"Convolution2D(\",number_of_filters,\", (\",filter_x,\", \",filter_y,\"), name='\",mat_model_layer,\"')\")\n",
    "            model.add(Convolution2D(number_of_filters, (filter_x, filter_y), name= mat_model_layer))\n",
    "\n",
    "        else:\n",
    "            if mat_model_layer.find(\"relu\") == 0:\n",
    "                print(\"Activation('relu', name=\",mat_model_layer)\n",
    "                model.add(Activation('relu', name=mat_model_layer))\n",
    "            elif mat_model_layer.find(\"dropout\") == 0:\n",
    "                print(\"Dropout(0.5, name=\",mat_model_layer,\")\")\n",
    "                model.add(Dropout(0.5, name=mat_model_layer))\n",
    "            elif mat_model_layer.find(\"pool\") == 0:\n",
    "                print(\"MaxPooling2D((2,2), strides=(2,2), name=\",mat_model_layer,\")\")\n",
    "                model.add(MaxPooling2D((2,2), strides=(2,2), name=mat_model_layer))\n",
    "            elif mat_model_layer.find(\"softmax\") == 0:\n",
    "                print(\"Activation('softmax', name=\",mat_model_layer,\")\")\n",
    "                model.add(Activation('softmax', name=mat_model_layer))\n",
    "            else:\n",
    "                print(\"-->\",mat_model_layer)\n",
    "    return model"
   ]
  },
  {
   "cell_type": "markdown",
   "metadata": {},
   "source": [
    "Save model to .h5 file for use later."
   ]
  },
  {
   "cell_type": "code",
   "execution_count": 42,
   "metadata": {},
   "outputs": [
    {
     "name": "stdout",
     "output_type": "stream",
     "text": [
      "ZeroPadding2D((1,1))\n",
      "Convolution2D( 64 , ( 3 ,  3 ), name=' conv1_1 ')\n",
      "Activation('relu', name= relu1_1\n",
      "ZeroPadding2D((1,1))\n",
      "Convolution2D( 64 , ( 3 ,  3 ), name=' conv1_2 ')\n",
      "Activation('relu', name= relu1_2\n",
      "MaxPooling2D((2,2), strides=(2,2), name= pool1 )\n",
      "ZeroPadding2D((1,1))\n",
      "Convolution2D( 128 , ( 3 ,  3 ), name=' conv2_1 ')\n",
      "Activation('relu', name= relu2_1\n",
      "ZeroPadding2D((1,1))\n",
      "Convolution2D( 128 , ( 3 ,  3 ), name=' conv2_2 ')\n",
      "Activation('relu', name= relu2_2\n",
      "MaxPooling2D((2,2), strides=(2,2), name= pool2 )\n",
      "ZeroPadding2D((1,1))\n",
      "Convolution2D( 256 , ( 3 ,  3 ), name=' conv3_1 ')\n",
      "Activation('relu', name= relu3_1\n",
      "ZeroPadding2D((1,1))\n",
      "Convolution2D( 256 , ( 3 ,  3 ), name=' conv3_2 ')\n",
      "Activation('relu', name= relu3_2\n",
      "ZeroPadding2D((1,1))\n",
      "Convolution2D( 256 , ( 3 ,  3 ), name=' conv3_3 ')\n",
      "Activation('relu', name= relu3_3\n",
      "MaxPooling2D((2,2), strides=(2,2), name= pool3 )\n",
      "ZeroPadding2D((1,1))\n",
      "Convolution2D( 512 , ( 3 ,  3 ), name=' conv4_1 ')\n",
      "Activation('relu', name= relu4_1\n",
      "ZeroPadding2D((1,1))\n",
      "Convolution2D( 512 , ( 3 ,  3 ), name=' conv4_2 ')\n",
      "Activation('relu', name= relu4_2\n",
      "ZeroPadding2D((1,1))\n",
      "Convolution2D( 512 , ( 3 ,  3 ), name=' conv4_3 ')\n",
      "Activation('relu', name= relu4_3\n",
      "MaxPooling2D((2,2), strides=(2,2), name= pool4 )\n",
      "ZeroPadding2D((1,1))\n",
      "Convolution2D( 512 , ( 3 ,  3 ), name=' conv5_1 ')\n",
      "Activation('relu', name= relu5_1\n",
      "ZeroPadding2D((1,1))\n",
      "Convolution2D( 512 , ( 3 ,  3 ), name=' conv5_2 ')\n",
      "Activation('relu', name= relu5_2\n",
      "ZeroPadding2D((1,1))\n",
      "Convolution2D( 512 , ( 3 ,  3 ), name=' conv5_3 ')\n",
      "Activation('relu', name= relu5_3\n",
      "MaxPooling2D((2,2), strides=(2,2), name= pool5 )\n",
      "Convolution2D( 4096 , ( 7 ,  7 ), name=' fc6 ')\n",
      "Activation('relu', name= relu6\n",
      "Dropout(0.5, name= dropout6 )\n",
      "Convolution2D( 4096 , ( 1 ,  1 ), name=' fc7 ')\n",
      "Activation('relu', name= relu7\n",
      "Dropout(0.5, name= dropout7 )\n",
      "Convolution2D( 2622 , ( 1 ,  1 ), name=' fc8 ')\n",
      "Activation('softmax', name= softmax )\n"
     ]
    }
   ],
   "source": [
    "model = vgg_tf()\n",
    "model.save('data/vgg_face.h5')"
   ]
  },
  {
   "cell_type": "markdown",
   "metadata": {},
   "source": [
    "## Construct Classifier "
   ]
  },
  {
   "cell_type": "code",
   "execution_count": 39,
   "metadata": {},
   "outputs": [],
   "source": [
    "def classier_model(input_dim):\n",
    "    classifier = Sequential()\n",
    "    classifier.add(Dense(100, input_dim=input_dim)) #input dim\n",
    "    classifier.add(BatchNormalization())\n",
    "    classifier.add(Activation('tanh'))\n",
    "    classifier.add(Dropout(0.3))\n",
    "    classifier.add(Dense(20))\n",
    "    classifier.add(BatchNormalization())\n",
    "    classifier.add(Activation('tanh'))\n",
    "    classifier.add(Dropout(0.1))\n",
    "    classifier.add(Dense(140))\n",
    "    classifier.add(Activation('softmax'))\n",
    "    classifier.compile(loss=tf.keras.losses.SparseCategoricalCrossentropy(), optimizer='adam', metrics=['accuracy'])\n",
    "    return classifier"
   ]
  },
  {
   "cell_type": "markdown",
   "metadata": {},
   "source": [
    "## Load Images"
   ]
  },
  {
   "cell_type": "markdown",
   "metadata": {},
   "source": [
    "## Train Classifier"
   ]
  },
  {
   "cell_type": "markdown",
   "metadata": {},
   "source": [
    "## Test Model"
   ]
  },
  {
   "cell_type": "markdown",
   "metadata": {},
   "source": [
    "## Results"
   ]
  },
  {
   "cell_type": "code",
   "execution_count": null,
   "metadata": {},
   "outputs": [],
   "source": []
  }
 ],
 "metadata": {
  "kernelspec": {
   "display_name": "Python 3",
   "language": "python",
   "name": "python3"
  },
  "language_info": {
   "codemirror_mode": {
    "name": "ipython",
    "version": 3
   },
   "file_extension": ".py",
   "mimetype": "text/x-python",
   "name": "python",
   "nbconvert_exporter": "python",
   "pygments_lexer": "ipython3",
   "version": "3.6.10"
  }
 },
 "nbformat": 4,
 "nbformat_minor": 4
}
